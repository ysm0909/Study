{
 "cells": [
  {
   "cell_type": "markdown",
   "id": "a3db3cce-3eca-4753-a541-81c492930bc5",
   "metadata": {},
   "source": [
    "# 특정 부분 스크랩"
   ]
  },
  {
   "cell_type": "code",
   "execution_count": 1,
   "id": "87bf5bbf-85c2-4f65-ace6-3ebdc0af568c",
   "metadata": {},
   "outputs": [],
   "source": [
    "#pip install selenium"
   ]
  },
  {
   "cell_type": "code",
   "execution_count": 7,
   "id": "1745f71c-992f-4394-b35d-c3c545cbda78",
   "metadata": {},
   "outputs": [
    {
     "name": "stdout",
     "output_type": "stream",
     "text": [
      "Collecting python-docx\n",
      "  Downloading python_docx-1.1.2-py3-none-any.whl.metadata (2.0 kB)\n",
      "Requirement already satisfied: lxml>=3.1.0 in c:\\programdata\\anaconda3\\lib\\site-packages (from python-docx) (4.9.3)\n",
      "Requirement already satisfied: typing-extensions>=4.9.0 in c:\\programdata\\anaconda3\\lib\\site-packages (from python-docx) (4.11.0)\n",
      "Downloading python_docx-1.1.2-py3-none-any.whl (244 kB)\n",
      "   ---------------------------------------- 0.0/244.3 kB ? eta -:--:--\n",
      "   - -------------------------------------- 10.2/244.3 kB ? eta -:--:--\n",
      "   --- ----------------------------------- 20.5/244.3 kB 330.3 kB/s eta 0:00:01\n",
      "   --------- ----------------------------- 61.4/244.3 kB 544.7 kB/s eta 0:00:01\n",
      "   -------------------------------------- - 235.5/244.3 kB 1.6 MB/s eta 0:00:01\n",
      "   ---------------------------------------- 244.3/244.3 kB 1.2 MB/s eta 0:00:00\n",
      "Installing collected packages: python-docx\n",
      "Successfully installed python-docx-1.1.2\n",
      "Note: you may need to restart the kernel to use updated packages.\n"
     ]
    }
   ],
   "source": [
    "pip install python-docx"
   ]
  },
  {
   "cell_type": "code",
   "execution_count": 1,
   "id": "0d720c9e-511d-4df0-9581-6fa60432adc2",
   "metadata": {},
   "outputs": [],
   "source": [
    "from selenium import webdriver\n",
    "from selenium.webdriver.common.keys import Keys\n",
    "import time\n",
    "import urllib.request\n",
    "import os"
   ]
  },
  {
   "cell_type": "code",
   "execution_count": 14,
   "id": "69a685f5-70e5-4d6a-89d1-c6f06fc1bada",
   "metadata": {
    "scrolled": true
   },
   "outputs": [
    {
     "name": "stdout",
     "output_type": "stream",
     "text": [
      "텍스트가 'scraped_texts.docx' 파일에 저장되었습니다.\n"
     ]
    }
   ],
   "source": [
    "from selenium import webdriver\n",
    "from selenium.webdriver.common.by import By\n",
    "from selenium.webdriver.chrome.service import Service\n",
    "from selenium.webdriver.support.ui import WebDriverWait\n",
    "from selenium.webdriver.support import expected_conditions as EC\n",
    "from webdriver_manager.chrome import ChromeDriverManager\n",
    "from docx import Document\n",
    "from docx.shared import Pt\n",
    "from docx.oxml.ns import qn\n",
    "from docx.enum.style import WD_STYLE_TYPE\n",
    "\n",
    "def add_korean_font_styles(doc):\n",
    "    # '맑은 고딕' 스타일 추가\n",
    "    style = doc.styles.add_style('KoreanNormal', WD_STYLE_TYPE.PARAGRAPH)\n",
    "    style.font.name = '맑은 고딕'\n",
    "    style.font.size = Pt(12)\n",
    "    rFonts = style.element.rPr.rFonts\n",
    "    rFonts.set(qn('w:eastAsia'), '맑은 고딕')\n",
    "        \n",
    "# Chrome 옵션 설정\n",
    "options = Options()\n",
    "options.add_argument('--start-maximized')  # 창 최대화\n",
    "options.add_argument('--disable-infobars')  # 정보바 비활성화\n",
    "options.add_argument('--disable-extensions')  # 확장 기능 비활성화\n",
    "\n",
    "# Chrome Driver 경로 지정 및 서비스 객체 생성\n",
    "s = Service(r\"D:/Project01/selenium/chromedriver.exe\")\n",
    "\n",
    "# 드라이버 초기화\n",
    "driver = webdriver.Chrome(service=s, options=options)\n",
    "driver.implicitly_wait(3)\n",
    "\n",
    "# 웹 페이지 열기\n",
    "url = 'https://new.portmis.go.kr/portmis/websquare/websquare.jsp?w2xPath=/portmis/w2/main/index.xml&page=/portmis/w2/cm/sys/UI-PM-MT-001-021.xml&menuId=0045&menuCd=M4735&menuNm=%EC%82%AC%EC%9D%B4%ED%8A%B8%EB%A7%B5'  # 여기에 실제 URL을 입력하세요.\n",
    "driver.get(url)\n",
    "\n",
    "# 특정 버튼 클릭 (주어진 XPath 사용)\n",
    "button_xpath = '//*[@id=\"mf_tacMain_contents_M4735_body_genMenuLevel1_2_genMenuLevel2_1_genMenuLevel3_3_btnMenuLevel3\"]'\n",
    "button = WebDriverWait(driver, 10).until(EC.element_to_be_clickable((By.XPATH, button_xpath)))\n",
    "button.click()\n",
    "\n",
    "# 페이지가 로드될 때까지 대기\n",
    "content_xpath = '/html/body/div[2]/div[1]/div[3]/div/div[2]/div[2]/div[2]/div/div[2]/div'  # 여기에 실제 요소의 XPath를 입력하세요.\n",
    "WebDriverWait(driver, 10).until(EC.presence_of_element_located((By.XPATH, content_xpath)))\n",
    "\n",
    "# XPath로 요소 찾기\n",
    "elements = driver.find_elements(By.XPATH, content_xpath)\n",
    "\n",
    "# 요소의 텍스트 스크랩\n",
    "texts = [element.text for element in elements]\n",
    "\n",
    "# 브라우저 닫기\n",
    "driver.quit()\n",
    "\n",
    "# 워드 문서 생성\n",
    "document = Document()\n",
    "\n",
    "# 한글 폰트 스타일 추가\n",
    "add_korean_font_styles(document)\n",
    "\n",
    "# 텍스트를 워드 문서에 추가 (한글 스타일 적용)\n",
    "for text in texts:\n",
    "    para = document.add_paragraph(style='KoreanNormal')\n",
    "    run = para.add_run(text)\n",
    "\n",
    "# 워드 문서 저장\n",
    "document.save('scraped_texts.docx')\n",
    "\n",
    "print(\"텍스트가 'scraped_texts.docx' 파일에 저장되었습니다.\")"
   ]
  }
 ],
 "metadata": {
  "kernelspec": {
   "display_name": "Python 3 (ipykernel)",
   "language": "python",
   "name": "python3"
  },
  "language_info": {
   "codemirror_mode": {
    "name": "ipython",
    "version": 3
   },
   "file_extension": ".py",
   "mimetype": "text/x-python",
   "name": "python",
   "nbconvert_exporter": "python",
   "pygments_lexer": "ipython3",
   "version": "3.9.18"
  }
 },
 "nbformat": 4,
 "nbformat_minor": 5
}
