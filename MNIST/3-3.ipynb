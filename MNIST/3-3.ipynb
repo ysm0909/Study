{
 "cells": [
  {
   "cell_type": "markdown",
   "id": "e8bd6e2b-2bbd-4f45-93b6-7bfc0fb8079f",
   "metadata": {},
   "source": [
    "# 3-3: MNIST 데이터에 분류용-RBM 적용"
   ]
  },
  {
   "cell_type": "code",
   "execution_count": 1,
   "id": "e8994317",
   "metadata": {},
   "outputs": [
    {
     "name": "stdout",
     "output_type": "stream",
     "text": [
      "Collecting tensorflow\n",
      "  Obtaining dependency information for tensorflow from https://files.pythonhosted.org/packages/e4/14/d795bb156f8cc10eb1dcfe1332b7dbb8405b634688980aa9be8f885cc888/tensorflow-2.16.1-cp311-cp311-win_amd64.whl.metadata\n",
      "  Downloading tensorflow-2.16.1-cp311-cp311-win_amd64.whl.metadata (3.5 kB)\n",
      "Collecting tensorflow-intel==2.16.1 (from tensorflow)\n",
      "  Obtaining dependency information for tensorflow-intel==2.16.1 from https://files.pythonhosted.org/packages/e0/36/6278e4e7e69a90c00e0f82944d8f2713dd85a69d1add455d9e50446837ab/tensorflow_intel-2.16.1-cp311-cp311-win_amd64.whl.metadata\n",
      "  Downloading tensorflow_intel-2.16.1-cp311-cp311-win_amd64.whl.metadata (5.0 kB)\n",
      "Collecting absl-py>=1.0.0 (from tensorflow-intel==2.16.1->tensorflow)\n",
      "  Obtaining dependency information for absl-py>=1.0.0 from https://files.pythonhosted.org/packages/a2/ad/e0d3c824784ff121c03cc031f944bc7e139a8f1870ffd2845cc2dd76f6c4/absl_py-2.1.0-py3-none-any.whl.metadata\n",
      "  Downloading absl_py-2.1.0-py3-none-any.whl.metadata (2.3 kB)\n",
      "Collecting astunparse>=1.6.0 (from tensorflow-intel==2.16.1->tensorflow)\n",
      "  Obtaining dependency information for astunparse>=1.6.0 from https://files.pythonhosted.org/packages/2b/03/13dde6512ad7b4557eb792fbcf0c653af6076b81e5941d36ec61f7ce6028/astunparse-1.6.3-py2.py3-none-any.whl.metadata\n",
      "  Downloading astunparse-1.6.3-py2.py3-none-any.whl.metadata (4.4 kB)\n",
      "Collecting flatbuffers>=23.5.26 (from tensorflow-intel==2.16.1->tensorflow)\n",
      "  Obtaining dependency information for flatbuffers>=23.5.26 from https://files.pythonhosted.org/packages/41/f0/7e988a019bc54b2dbd0ad4182ef2d53488bb02e58694cd79d61369e85900/flatbuffers-24.3.25-py2.py3-none-any.whl.metadata\n",
      "  Downloading flatbuffers-24.3.25-py2.py3-none-any.whl.metadata (850 bytes)\n",
      "Collecting gast!=0.5.0,!=0.5.1,!=0.5.2,>=0.2.1 (from tensorflow-intel==2.16.1->tensorflow)\n",
      "  Obtaining dependency information for gast!=0.5.0,!=0.5.1,!=0.5.2,>=0.2.1 from https://files.pythonhosted.org/packages/fa/39/5aae571e5a5f4de9c3445dae08a530498e5c53b0e74410eeeb0991c79047/gast-0.5.4-py3-none-any.whl.metadata\n",
      "  Downloading gast-0.5.4-py3-none-any.whl.metadata (1.3 kB)\n",
      "Collecting google-pasta>=0.1.1 (from tensorflow-intel==2.16.1->tensorflow)\n",
      "  Obtaining dependency information for google-pasta>=0.1.1 from https://files.pythonhosted.org/packages/a3/de/c648ef6835192e6e2cc03f40b19eeda4382c49b5bafb43d88b931c4c74ac/google_pasta-0.2.0-py3-none-any.whl.metadata\n",
      "  Downloading google_pasta-0.2.0-py3-none-any.whl.metadata (814 bytes)\n",
      "Collecting h5py>=3.10.0 (from tensorflow-intel==2.16.1->tensorflow)\n",
      "  Obtaining dependency information for h5py>=3.10.0 from https://files.pythonhosted.org/packages/b6/35/ed21094eb4d8acf31ccc7666a4d8701c1ce38f8d1fa3c7036f24416f6337/h5py-3.10.0-cp311-cp311-win_amd64.whl.metadata\n",
      "  Downloading h5py-3.10.0-cp311-cp311-win_amd64.whl.metadata (2.5 kB)\n",
      "Collecting libclang>=13.0.0 (from tensorflow-intel==2.16.1->tensorflow)\n",
      "  Obtaining dependency information for libclang>=13.0.0 from https://files.pythonhosted.org/packages/0b/2d/3f480b1e1d31eb3d6de5e3ef641954e5c67430d5ac93b7fa7e07589576c7/libclang-18.1.1-py2.py3-none-win_amd64.whl.metadata\n",
      "  Downloading libclang-18.1.1-py2.py3-none-win_amd64.whl.metadata (5.3 kB)\n",
      "Collecting ml-dtypes~=0.3.1 (from tensorflow-intel==2.16.1->tensorflow)\n",
      "  Obtaining dependency information for ml-dtypes~=0.3.1 from https://files.pythonhosted.org/packages/a4/db/1784b87285588788170f87e987bfb4bda218d62a70a81ebb66c94e7f9b95/ml_dtypes-0.3.2-cp311-cp311-win_amd64.whl.metadata\n",
      "  Downloading ml_dtypes-0.3.2-cp311-cp311-win_amd64.whl.metadata (20 kB)\n",
      "Collecting opt-einsum>=2.3.2 (from tensorflow-intel==2.16.1->tensorflow)\n",
      "  Obtaining dependency information for opt-einsum>=2.3.2 from https://files.pythonhosted.org/packages/bc/19/404708a7e54ad2798907210462fd950c3442ea51acc8790f3da48d2bee8b/opt_einsum-3.3.0-py3-none-any.whl.metadata\n",
      "  Downloading opt_einsum-3.3.0-py3-none-any.whl.metadata (6.5 kB)\n",
      "Requirement already satisfied: packaging in c:\\users\\user\\anaconda3\\lib\\site-packages (from tensorflow-intel==2.16.1->tensorflow) (23.0)\n",
      "Collecting protobuf!=4.21.0,!=4.21.1,!=4.21.2,!=4.21.3,!=4.21.4,!=4.21.5,<5.0.0dev,>=3.20.3 (from tensorflow-intel==2.16.1->tensorflow)\n",
      "  Obtaining dependency information for protobuf!=4.21.0,!=4.21.1,!=4.21.2,!=4.21.3,!=4.21.4,!=4.21.5,<5.0.0dev,>=3.20.3 from https://files.pythonhosted.org/packages/ad/6e/1bed3b7c904cc178cb8ee8dbaf72934964452b3de95b7a63412591edb93c/protobuf-4.25.3-cp310-abi3-win_amd64.whl.metadata\n",
      "  Downloading protobuf-4.25.3-cp310-abi3-win_amd64.whl.metadata (541 bytes)\n",
      "Requirement already satisfied: requests<3,>=2.21.0 in c:\\users\\user\\anaconda3\\lib\\site-packages (from tensorflow-intel==2.16.1->tensorflow) (2.31.0)\n",
      "Requirement already satisfied: setuptools in c:\\users\\user\\anaconda3\\lib\\site-packages (from tensorflow-intel==2.16.1->tensorflow) (68.0.0)\n",
      "Requirement already satisfied: six>=1.12.0 in c:\\users\\user\\anaconda3\\lib\\site-packages (from tensorflow-intel==2.16.1->tensorflow) (1.16.0)\n",
      "Collecting termcolor>=1.1.0 (from tensorflow-intel==2.16.1->tensorflow)\n",
      "  Obtaining dependency information for termcolor>=1.1.0 from https://files.pythonhosted.org/packages/d9/5f/8c716e47b3a50cbd7c146f45881e11d9414def768b7cd9c5e6650ec2a80a/termcolor-2.4.0-py3-none-any.whl.metadata\n",
      "  Downloading termcolor-2.4.0-py3-none-any.whl.metadata (6.1 kB)\n",
      "Requirement already satisfied: typing-extensions>=3.6.6 in c:\\users\\user\\anaconda3\\lib\\site-packages (from tensorflow-intel==2.16.1->tensorflow) (4.7.1)\n",
      "Requirement already satisfied: wrapt>=1.11.0 in c:\\users\\user\\anaconda3\\lib\\site-packages (from tensorflow-intel==2.16.1->tensorflow) (1.14.1)\n",
      "Collecting grpcio<2.0,>=1.24.3 (from tensorflow-intel==2.16.1->tensorflow)\n",
      "  Obtaining dependency information for grpcio<2.0,>=1.24.3 from https://files.pythonhosted.org/packages/78/a9/eaa378e6fe421c2f61bdd4b92439b2b8bb320526f2b0e08fcf4e21c2f855/grpcio-1.62.1-cp311-cp311-win_amd64.whl.metadata\n",
      "  Downloading grpcio-1.62.1-cp311-cp311-win_amd64.whl.metadata (4.2 kB)\n",
      "Collecting tensorboard<2.17,>=2.16 (from tensorflow-intel==2.16.1->tensorflow)\n",
      "  Obtaining dependency information for tensorboard<2.17,>=2.16 from https://files.pythonhosted.org/packages/3a/d0/b97889ffa769e2d1fdebb632084d5e8b53fc299d43a537acee7ec0c021a3/tensorboard-2.16.2-py3-none-any.whl.metadata\n",
      "  Downloading tensorboard-2.16.2-py3-none-any.whl.metadata (1.6 kB)\n",
      "Collecting keras>=3.0.0 (from tensorflow-intel==2.16.1->tensorflow)\n",
      "  Obtaining dependency information for keras>=3.0.0 from https://files.pythonhosted.org/packages/59/a8/d94e8acb59d678d908fe1db0c7ad89dfa2c2e2e529eeb3c2b3cc218a758d/keras-3.1.1-py3-none-any.whl.metadata\n",
      "  Downloading keras-3.1.1-py3-none-any.whl.metadata (5.6 kB)\n",
      "Collecting tensorflow-io-gcs-filesystem>=0.23.1 (from tensorflow-intel==2.16.1->tensorflow)\n",
      "  Obtaining dependency information for tensorflow-io-gcs-filesystem>=0.23.1 from https://files.pythonhosted.org/packages/ac/4e/9566a313927be582ca99455a9523a097c7888fc819695bdc08415432b202/tensorflow_io_gcs_filesystem-0.31.0-cp311-cp311-win_amd64.whl.metadata\n",
      "  Downloading tensorflow_io_gcs_filesystem-0.31.0-cp311-cp311-win_amd64.whl.metadata (14 kB)\n",
      "Requirement already satisfied: numpy<2.0.0,>=1.23.5 in c:\\users\\user\\anaconda3\\lib\\site-packages (from tensorflow-intel==2.16.1->tensorflow) (1.24.3)\n",
      "Requirement already satisfied: wheel<1.0,>=0.23.0 in c:\\users\\user\\anaconda3\\lib\\site-packages (from astunparse>=1.6.0->tensorflow-intel==2.16.1->tensorflow) (0.38.4)\n",
      "Collecting rich (from keras>=3.0.0->tensorflow-intel==2.16.1->tensorflow)\n",
      "  Obtaining dependency information for rich from https://files.pythonhosted.org/packages/87/67/a37f6214d0e9fe57f6ae54b2956d550ca8365857f42a1ce0392bb21d9410/rich-13.7.1-py3-none-any.whl.metadata\n",
      "  Downloading rich-13.7.1-py3-none-any.whl.metadata (18 kB)\n",
      "Collecting namex (from keras>=3.0.0->tensorflow-intel==2.16.1->tensorflow)\n",
      "  Obtaining dependency information for namex from https://files.pythonhosted.org/packages/cd/43/b971880e2eb45c0bee2093710ae8044764a89afe9620df34a231c6f0ecd2/namex-0.0.7-py3-none-any.whl.metadata\n",
      "  Downloading namex-0.0.7-py3-none-any.whl.metadata (246 bytes)\n",
      "Collecting optree (from keras>=3.0.0->tensorflow-intel==2.16.1->tensorflow)\n",
      "  Obtaining dependency information for optree from https://files.pythonhosted.org/packages/8f/db/e05a35451d4ba30fdc65ef168dfdc68a6939ea6afdc0101e3e77f97e1547/optree-0.11.0-cp311-cp311-win_amd64.whl.metadata\n",
      "  Downloading optree-0.11.0-cp311-cp311-win_amd64.whl.metadata (46 kB)\n",
      "     ---------------------------------------- 0.0/46.2 kB ? eta -:--:--\n",
      "     ---------------------------------------- 46.2/46.2 kB ? eta 0:00:00\n",
      "Requirement already satisfied: charset-normalizer<4,>=2 in c:\\users\\user\\anaconda3\\lib\\site-packages (from requests<3,>=2.21.0->tensorflow-intel==2.16.1->tensorflow) (2.0.4)\n",
      "Requirement already satisfied: idna<4,>=2.5 in c:\\users\\user\\anaconda3\\lib\\site-packages (from requests<3,>=2.21.0->tensorflow-intel==2.16.1->tensorflow) (3.4)\n",
      "Requirement already satisfied: urllib3<3,>=1.21.1 in c:\\users\\user\\anaconda3\\lib\\site-packages (from requests<3,>=2.21.0->tensorflow-intel==2.16.1->tensorflow) (1.26.16)\n",
      "Requirement already satisfied: certifi>=2017.4.17 in c:\\users\\user\\anaconda3\\lib\\site-packages (from requests<3,>=2.21.0->tensorflow-intel==2.16.1->tensorflow) (2023.7.22)\n",
      "Requirement already satisfied: markdown>=2.6.8 in c:\\users\\user\\anaconda3\\lib\\site-packages (from tensorboard<2.17,>=2.16->tensorflow-intel==2.16.1->tensorflow) (3.4.1)\n",
      "Collecting tensorboard-data-server<0.8.0,>=0.7.0 (from tensorboard<2.17,>=2.16->tensorflow-intel==2.16.1->tensorflow)\n",
      "  Obtaining dependency information for tensorboard-data-server<0.8.0,>=0.7.0 from https://files.pythonhosted.org/packages/7a/13/e503968fefabd4c6b2650af21e110aa8466fe21432cd7c43a84577a89438/tensorboard_data_server-0.7.2-py3-none-any.whl.metadata\n",
      "  Downloading tensorboard_data_server-0.7.2-py3-none-any.whl.metadata (1.1 kB)\n",
      "Requirement already satisfied: werkzeug>=1.0.1 in c:\\users\\user\\anaconda3\\lib\\site-packages (from tensorboard<2.17,>=2.16->tensorflow-intel==2.16.1->tensorflow) (2.2.3)\n",
      "Requirement already satisfied: MarkupSafe>=2.1.1 in c:\\users\\user\\anaconda3\\lib\\site-packages (from werkzeug>=1.0.1->tensorboard<2.17,>=2.16->tensorflow-intel==2.16.1->tensorflow) (2.1.1)\n",
      "Requirement already satisfied: markdown-it-py>=2.2.0 in c:\\users\\user\\anaconda3\\lib\\site-packages (from rich->keras>=3.0.0->tensorflow-intel==2.16.1->tensorflow) (2.2.0)\n",
      "Requirement already satisfied: pygments<3.0.0,>=2.13.0 in c:\\users\\user\\anaconda3\\lib\\site-packages (from rich->keras>=3.0.0->tensorflow-intel==2.16.1->tensorflow) (2.15.1)\n",
      "Requirement already satisfied: mdurl~=0.1 in c:\\users\\user\\anaconda3\\lib\\site-packages (from markdown-it-py>=2.2.0->rich->keras>=3.0.0->tensorflow-intel==2.16.1->tensorflow) (0.1.0)\n",
      "Downloading tensorflow-2.16.1-cp311-cp311-win_amd64.whl (2.1 kB)\n",
      "Downloading tensorflow_intel-2.16.1-cp311-cp311-win_amd64.whl (377.0 MB)\n",
      "   ---------------------------------------- 0.0/377.0 MB ? eta -:--:--\n",
      "   ---------------------------------------- 2.7/377.0 MB 57.3 MB/s eta 0:00:07\n",
      "    --------------------------------------- 6.8/377.0 MB 86.9 MB/s eta 0:00:05\n",
      "   - ------------------------------------- 12.2/377.0 MB 108.8 MB/s eta 0:00:04\n",
      "   - ------------------------------------- 17.3/377.0 MB 110.0 MB/s eta 0:00:04\n",
      "   -- ------------------------------------ 22.5/377.0 MB 108.8 MB/s eta 0:00:04\n",
      "   -- ------------------------------------- 27.6/377.0 MB 93.9 MB/s eta 0:00:04\n",
      "   --- ----------------------------------- 31.7/377.0 MB 110.0 MB/s eta 0:00:04\n",
      "   --- ----------------------------------- 37.1/377.0 MB 108.8 MB/s eta 0:00:04\n",
      "   ---- ---------------------------------- 42.3/377.0 MB 131.2 MB/s eta 0:00:03\n",
      "   ---- ---------------------------------- 46.1/377.0 MB 108.8 MB/s eta 0:00:04\n",
      "   ----- --------------------------------- 51.2/377.0 MB 131.2 MB/s eta 0:00:03\n",
      "   ----- --------------------------------- 56.4/377.0 MB 108.8 MB/s eta 0:00:03\n",
      "   ----- --------------------------------- 57.7/377.0 MB 108.8 MB/s eta 0:00:03\n",
      "   ------ --------------------------------- 57.7/377.0 MB 59.5 MB/s eta 0:00:06\n",
      "   ------ --------------------------------- 62.8/377.0 MB 65.2 MB/s eta 0:00:05\n",
      "   ------- ------------------------------- 68.0/377.0 MB 108.8 MB/s eta 0:00:03\n",
      "   ------- ------------------------------- 72.2/377.0 MB 108.8 MB/s eta 0:00:03\n",
      "   ------- ------------------------------- 76.7/377.0 MB 108.8 MB/s eta 0:00:03\n",
      "   -------- ------------------------------ 80.4/377.0 MB 108.8 MB/s eta 0:00:03\n",
      "   --------- ------------------------------ 85.8/377.0 MB 93.9 MB/s eta 0:00:04\n",
      "   --------- ----------------------------- 90.9/377.0 MB 131.2 MB/s eta 0:00:03\n",
      "   ---------- ----------------------------- 95.9/377.0 MB 93.9 MB/s eta 0:00:03\n",
      "   ---------- ---------------------------- 99.8/377.0 MB 110.0 MB/s eta 0:00:03\n",
      "   ---------- ---------------------------- 104.1/377.0 MB 93.9 MB/s eta 0:00:03\n",
      "   ----------- --------------------------- 109.4/377.0 MB 93.9 MB/s eta 0:00:03\n",
      "   ----------- --------------------------- 112.2/377.0 MB 93.9 MB/s eta 0:00:03\n",
      "   ----------- --------------------------- 112.2/377.0 MB 93.9 MB/s eta 0:00:03\n",
      "   ----------- --------------------------- 112.2/377.0 MB 93.9 MB/s eta 0:00:03\n",
      "   ----------- --------------------------- 115.7/377.0 MB 46.7 MB/s eta 0:00:06\n",
      "   ------------ -------------------------- 120.1/377.0 MB 46.7 MB/s eta 0:00:06\n",
      "   ------------ ------------------------- 124.5/377.0 MB 108.8 MB/s eta 0:00:03\n",
      "   ------------ ------------------------- 128.2/377.0 MB 108.8 MB/s eta 0:00:03\n",
      "   ------------- ------------------------ 133.3/377.0 MB 108.8 MB/s eta 0:00:03\n",
      "   -------------- ----------------------- 138.9/377.0 MB 110.0 MB/s eta 0:00:03\n",
      "   -------------- ----------------------- 144.2/377.0 MB 110.0 MB/s eta 0:00:03\n",
      "   --------------- ---------------------- 149.4/377.0 MB 108.8 MB/s eta 0:00:03\n",
      "   --------------- ---------------------- 153.2/377.0 MB 108.8 MB/s eta 0:00:03\n",
      "   --------------- ---------------------- 158.2/377.0 MB 108.8 MB/s eta 0:00:03\n",
      "   ---------------- --------------------- 163.5/377.0 MB 108.8 MB/s eta 0:00:02\n",
      "   ---------------- --------------------- 168.6/377.0 MB 108.8 MB/s eta 0:00:02\n",
      "   ----------------- --------------------- 173.6/377.0 MB 93.0 MB/s eta 0:00:03\n",
      "   ----------------- -------------------- 178.3/377.0 MB 131.2 MB/s eta 0:00:02\n",
      "   ------------------ -------------------- 178.3/377.0 MB 73.1 MB/s eta 0:00:03\n",
      "   ------------------ -------------------- 183.4/377.0 MB 73.1 MB/s eta 0:00:03\n",
      "   ------------------- ------------------- 187.2/377.0 MB 73.1 MB/s eta 0:00:03\n",
      "   ------------------- ------------------ 192.3/377.0 MB 110.0 MB/s eta 0:00:02\n",
      "   -------------------- ------------------ 196.1/377.0 MB 93.9 MB/s eta 0:00:02\n",
      "   -------------------- ------------------ 196.1/377.0 MB 93.9 MB/s eta 0:00:02\n",
      "   -------------------- ------------------ 198.3/377.0 MB 54.4 MB/s eta 0:00:04\n",
      "   --------------------- ----------------- 203.6/377.0 MB 59.5 MB/s eta 0:00:03\n",
      "   --------------------- ---------------- 208.9/377.0 MB 108.8 MB/s eta 0:00:02\n",
      "   --------------------- ----------------- 212.5/377.0 MB 93.0 MB/s eta 0:00:02\n",
      "   ---------------------- ---------------- 217.7/377.0 MB 93.9 MB/s eta 0:00:02\n",
      "   ---------------------- ---------------- 221.4/377.0 MB 81.8 MB/s eta 0:00:02\n",
      "   ---------------------- --------------- 225.4/377.0 MB 108.8 MB/s eta 0:00:02\n",
      "   ---------------------- --------------- 225.4/377.0 MB 108.8 MB/s eta 0:00:02\n",
      "   ---------------------- --------------- 225.4/377.0 MB 108.8 MB/s eta 0:00:02\n",
      "   ---------------------- --------------- 225.4/377.0 MB 108.8 MB/s eta 0:00:02\n",
      "   ---------------------- --------------- 225.4/377.0 MB 108.8 MB/s eta 0:00:02\n",
      "   ---------------------- --------------- 225.4/377.0 MB 108.8 MB/s eta 0:00:02\n",
      "   ----------------------- --------------- 228.4/377.0 MB 29.7 MB/s eta 0:00:05\n",
      "   ------------------------ -------------- 232.8/377.0 MB 28.4 MB/s eta 0:00:06\n",
      "   ----------------------- -------------- 237.1/377.0 MB 131.2 MB/s eta 0:00:02\n",
      "   ------------------------ ------------- 242.2/377.0 MB 110.0 MB/s eta 0:00:02\n",
      "   ------------------------- ------------- 247.1/377.0 MB 93.9 MB/s eta 0:00:02\n",
      "   ------------------------- ------------ 251.2/377.0 MB 108.8 MB/s eta 0:00:02\n",
      "   ------------------------- ------------ 255.8/377.0 MB 110.0 MB/s eta 0:00:02\n",
      "   -------------------------- ----------- 261.1/377.0 MB 110.0 MB/s eta 0:00:02\n",
      "   --------------------------- ----------- 264.9/377.0 MB 93.9 MB/s eta 0:00:02\n",
      "   --------------------------- ----------- 269.9/377.0 MB 93.9 MB/s eta 0:00:02\n",
      "   ---------------------------- ---------- 274.8/377.0 MB 93.9 MB/s eta 0:00:02\n",
      "   ---------------------------- --------- 278.5/377.0 MB 108.8 MB/s eta 0:00:01\n",
      "   ---------------------------- --------- 283.8/377.0 MB 108.8 MB/s eta 0:00:01\n",
      "   ----------------------------- --------- 287.6/377.0 MB 93.9 MB/s eta 0:00:01\n",
      "   ------------------------------ -------- 292.8/377.0 MB 93.0 MB/s eta 0:00:01\n",
      "   ----------------------------- -------- 293.6/377.0 MB 108.8 MB/s eta 0:00:01\n",
      "   ----------------------------- -------- 293.6/377.0 MB 108.8 MB/s eta 0:00:01\n",
      "   ----------------------------- -------- 293.6/377.0 MB 108.8 MB/s eta 0:00:01\n",
      "   ----------------------------- -------- 293.6/377.0 MB 108.8 MB/s eta 0:00:01\n",
      "   ----------------------------- -------- 293.6/377.0 MB 108.8 MB/s eta 0:00:01\n",
      "   ----------------------------- -------- 293.6/377.0 MB 108.8 MB/s eta 0:00:01\n",
      "   ------------------------------ -------- 293.8/377.0 MB 26.2 MB/s eta 0:00:04\n",
      "   ------------------------------ -------- 297.9/377.0 MB 26.2 MB/s eta 0:00:04\n",
      "   ------------------------------- ------- 301.5/377.0 MB 26.2 MB/s eta 0:00:03\n",
      "   ------------------------------ ------- 306.5/377.0 MB 108.8 MB/s eta 0:00:01\n",
      "   ------------------------------- ------ 310.4/377.0 MB 108.8 MB/s eta 0:00:01\n",
      "   -------------------------------- ------ 314.6/377.0 MB 93.0 MB/s eta 0:00:01\n",
      "   -------------------------------- ------ 314.6/377.0 MB 93.0 MB/s eta 0:00:01\n",
      "   -------------------------------- ------ 314.6/377.0 MB 93.0 MB/s eta 0:00:01\n",
      "   -------------------------------- ------ 315.6/377.0 MB 46.7 MB/s eta 0:00:02\n",
      "   --------------------------------- ----- 320.4/377.0 MB 46.7 MB/s eta 0:00:02\n",
      "   -------------------------------- ----- 325.5/377.0 MB 108.8 MB/s eta 0:00:01\n",
      "   ---------------------------------- ---- 329.5/377.0 MB 93.9 MB/s eta 0:00:01\n",
      "   --------------------------------- ---- 334.3/377.0 MB 131.2 MB/s eta 0:00:01\n",
      "   ---------------------------------- --- 339.6/377.0 MB 108.8 MB/s eta 0:00:01\n",
      "   ---------------------------------- --- 344.9/377.0 MB 108.8 MB/s eta 0:00:01\n",
      "   ----------------------------------- -- 350.2/377.0 MB 108.8 MB/s eta 0:00:01\n",
      "   ------------------------------------ -- 354.3/377.0 MB 93.0 MB/s eta 0:00:01\n",
      "   ------------------------------------- - 358.9/377.0 MB 93.0 MB/s eta 0:00:01\n",
      "   ------------------------------------ - 362.6/377.0 MB 108.8 MB/s eta 0:00:01\n",
      "   -------------------------------------  367.8/377.0 MB 108.8 MB/s eta 0:00:01\n",
      "   -------------------------------------  372.9/377.0 MB 108.8 MB/s eta 0:00:01\n",
      "   --------------------------------------  377.0/377.0 MB 93.0 MB/s eta 0:00:01\n",
      "   --------------------------------------  377.0/377.0 MB 93.0 MB/s eta 0:00:01\n",
      "   --------------------------------------  377.0/377.0 MB 93.0 MB/s eta 0:00:01\n",
      "   --------------------------------------  377.0/377.0 MB 93.0 MB/s eta 0:00:01\n",
      "   --------------------------------------  377.0/377.0 MB 93.0 MB/s eta 0:00:01\n",
      "   --------------------------------------  377.0/377.0 MB 93.0 MB/s eta 0:00:01\n",
      "   --------------------------------------  377.0/377.0 MB 93.0 MB/s eta 0:00:01\n",
      "   --------------------------------------  377.0/377.0 MB 93.0 MB/s eta 0:00:01\n",
      "   --------------------------------------  377.0/377.0 MB 93.0 MB/s eta 0:00:01\n",
      "   --------------------------------------  377.0/377.0 MB 93.0 MB/s eta 0:00:01\n",
      "   --------------------------------------- 377.0/377.0 MB 13.1 MB/s eta 0:00:00\n",
      "Downloading absl_py-2.1.0-py3-none-any.whl (133 kB)\n",
      "   ---------------------------------------- 0.0/133.7 kB ? eta -:--:--\n",
      "   ---------------------------------------- 133.7/133.7 kB ? eta 0:00:00\n",
      "Downloading astunparse-1.6.3-py2.py3-none-any.whl (12 kB)\n",
      "Downloading flatbuffers-24.3.25-py2.py3-none-any.whl (26 kB)\n",
      "Downloading gast-0.5.4-py3-none-any.whl (19 kB)\n",
      "Downloading google_pasta-0.2.0-py3-none-any.whl (57 kB)\n",
      "   ---------------------------------------- 0.0/57.5 kB ? eta -:--:--\n",
      "   ---------------------------------------- 57.5/57.5 kB 3.0 MB/s eta 0:00:00\n",
      "Downloading grpcio-1.62.1-cp311-cp311-win_amd64.whl (3.8 MB)\n",
      "   ---------------------------------------- 0.0/3.8 MB ? eta -:--:--\n",
      "   ---------------------------------------- 3.8/3.8 MB 80.4 MB/s eta 0:00:00\n",
      "Downloading h5py-3.10.0-cp311-cp311-win_amd64.whl (2.7 MB)\n",
      "   ---------------------------------------- 0.0/2.7 MB ? eta -:--:--\n",
      "   ---------------------------------------- 2.7/2.7 MB 83.2 MB/s eta 0:00:00\n",
      "Downloading keras-3.1.1-py3-none-any.whl (1.1 MB)\n",
      "   ---------------------------------------- 0.0/1.1 MB ? eta -:--:--\n",
      "   ---------------------------------------- 1.1/1.1 MB ? eta 0:00:00\n",
      "Downloading libclang-18.1.1-py2.py3-none-win_amd64.whl (26.4 MB)\n",
      "   ---------------------------------------- 0.0/26.4 MB ? eta -:--:--\n",
      "   ------ --------------------------------- 4.5/26.4 MB 143.7 MB/s eta 0:00:01\n",
      "   ------------- -------------------------- 8.9/26.4 MB 95.0 MB/s eta 0:00:01\n",
      "   ------------------- -------------------- 13.2/26.4 MB 108.8 MB/s eta 0:00:01\n",
      "   ------------------------- -------------- 16.8/26.4 MB 108.8 MB/s eta 0:00:01\n",
      "   ------------------------- -------------- 16.8/26.4 MB 108.8 MB/s eta 0:00:01\n",
      "   ------------------------------- -------- 20.8/26.4 MB 65.2 MB/s eta 0:00:01\n",
      "   ---------------------------------------  26.0/26.4 MB 65.6 MB/s eta 0:00:01\n",
      "   ---------------------------------------  26.4/26.4 MB 65.6 MB/s eta 0:00:01\n",
      "   ---------------------------------------- 26.4/26.4 MB 50.4 MB/s eta 0:00:00\n",
      "Downloading ml_dtypes-0.3.2-cp311-cp311-win_amd64.whl (127 kB)\n",
      "   ---------------------------------------- 0.0/127.7 kB ? eta -:--:--\n",
      "   ---------------------------------------- 127.7/127.7 kB ? eta 0:00:00\n",
      "Downloading opt_einsum-3.3.0-py3-none-any.whl (65 kB)\n",
      "   ---------------------------------------- 0.0/65.5 kB ? eta -:--:--\n",
      "   ---------------------------------------- 65.5/65.5 kB 3.5 MB/s eta 0:00:00\n",
      "Downloading protobuf-4.25.3-cp310-abi3-win_amd64.whl (413 kB)\n",
      "   ---------------------------------------- 0.0/413.4 kB ? eta -:--:--\n",
      "   --------------------------------------- 413.4/413.4 kB 26.9 MB/s eta 0:00:00\n",
      "Downloading tensorboard-2.16.2-py3-none-any.whl (5.5 MB)\n",
      "   ---------------------------------------- 0.0/5.5 MB ? eta -:--:--\n",
      "   ---------------------------- ----------- 3.9/5.5 MB 83.0 MB/s eta 0:00:01\n",
      "   ---------------------------------------- 5.5/5.5 MB 87.0 MB/s eta 0:00:00\n",
      "Downloading tensorflow_io_gcs_filesystem-0.31.0-cp311-cp311-win_amd64.whl (1.5 MB)\n",
      "   ---------------------------------------- 0.0/1.5 MB ? eta -:--:--\n",
      "   ---------------------------------------- 1.5/1.5 MB 92.3 MB/s eta 0:00:00\n",
      "Downloading termcolor-2.4.0-py3-none-any.whl (7.7 kB)\n",
      "Downloading tensorboard_data_server-0.7.2-py3-none-any.whl (2.4 kB)\n",
      "Downloading namex-0.0.7-py3-none-any.whl (5.8 kB)\n",
      "Downloading optree-0.11.0-cp311-cp311-win_amd64.whl (245 kB)\n",
      "   ---------------------------------------- 0.0/245.0 kB ? eta -:--:--\n",
      "   ---------------------------------------- 245.0/245.0 kB ? eta 0:00:00\n",
      "Downloading rich-13.7.1-py3-none-any.whl (240 kB)\n",
      "   ---------------------------------------- 0.0/240.7 kB ? eta -:--:--\n",
      "   --------------------------------------- 240.7/240.7 kB 15.4 MB/s eta 0:00:00\n",
      "Installing collected packages: namex, libclang, flatbuffers, termcolor, tensorflow-io-gcs-filesystem, tensorboard-data-server, protobuf, optree, opt-einsum, ml-dtypes, h5py, grpcio, google-pasta, gast, astunparse, absl-py, tensorboard, rich, keras, tensorflow-intel, tensorflow\n",
      "  Attempting uninstall: h5py\n",
      "    Found existing installation: h5py 3.7.0\n",
      "    Uninstalling h5py-3.7.0:\n",
      "      Successfully uninstalled h5py-3.7.0\n",
      "Successfully installed absl-py-2.1.0 astunparse-1.6.3 flatbuffers-24.3.25 gast-0.5.4 google-pasta-0.2.0 grpcio-1.62.1 h5py-3.10.0 keras-3.1.1 libclang-18.1.1 ml-dtypes-0.3.2 namex-0.0.7 opt-einsum-3.3.0 optree-0.11.0 protobuf-4.25.3 rich-13.7.1 tensorboard-2.16.2 tensorboard-data-server-0.7.2 tensorflow-2.16.1 tensorflow-intel-2.16.1 tensorflow-io-gcs-filesystem-0.31.0 termcolor-2.4.0\n"
     ]
    }
   ],
   "source": [
    "!pip install tensorflow"
   ]
  },
  {
   "cell_type": "code",
   "execution_count": 2,
   "id": "df3be804",
   "metadata": {},
   "outputs": [],
   "source": [
    "## 필요한 라이브러리를 불러들임 \n",
    "import tensorflow as tf\n",
    "import numpy as np\n",
    "import pandas as pd\n",
    "from sklearn import datasets"
   ]
  },
  {
   "cell_type": "code",
   "execution_count": 3,
   "id": "43b186a7",
   "metadata": {},
   "outputs": [],
   "source": [
    "## iris 파일 읽어들여 입력 데이터와 출력 데이터로 분리\n",
    "iris = datasets.load_iris()\n",
    "irisX = iris.data\n",
    "irisY = iris.target\n",
    "# 원-핫 벡터 생성\n",
    "irisY = pd.get_dummies(irisY)  \n",
    "irisY = np.array(irisY)  "
   ]
  },
  {
   "cell_type": "code",
   "execution_count": 4,
   "id": "43d4fc31",
   "metadata": {},
   "outputs": [],
   "source": [
    "## 이진 입력 RBM을 위한 입력 데이터의 정규화 \n",
    "minmax = np.amin(irisX, 0), np.amax(irisX, 0)\n",
    "no_irisX = (irisX-minmax[0])/(minmax[1]-minmax[0])"
   ]
  },
  {
   "cell_type": "code",
   "execution_count": 5,
   "id": "fbcad6c7",
   "metadata": {},
   "outputs": [],
   "source": [
    "## 훈련 데이터와 검정 데이터를 7:3 비율로 분리 \n",
    "np.random.seed(2019)\n",
    "ind1 = np.random.permutation(50)\n",
    "p_ind2 = np.arange(50,100)\n",
    "ind2 = np.random.permutation(p_ind2) \n",
    "p_ind3 = np.arange(100,150)\n",
    "ind3 = np.random.permutation(p_ind3) "
   ]
  },
  {
   "cell_type": "code",
   "execution_count": 6,
   "id": "7392ec2b",
   "metadata": {},
   "outputs": [],
   "source": [
    "tr_ind1 = ind1[:35]\n",
    "tr_ind2 = ind2[:35]\n",
    "tr_ind3 = ind3[:35]\n",
    "tr_ind = np.concatenate((tr_ind1,tr_ind2,tr_ind3),axis=0)\n",
    "te_ind1 = ind1[35:]\n",
    "te_ind2 = ind2[35:]\n",
    "te_ind3 = ind3[35:]\n",
    "te_ind = np.concatenate((te_ind1,te_ind2,te_ind3),axis=0)"
   ]
  },
  {
   "cell_type": "code",
   "execution_count": 7,
   "id": "be0f54e0",
   "metadata": {},
   "outputs": [],
   "source": [
    "trX = no_irisX[tr_ind]\n",
    "teX = no_irisX[te_ind]\n",
    "trY = irisY[tr_ind]\n",
    "teY = irisY[te_ind]"
   ]
  },
  {
   "cell_type": "code",
   "execution_count": 8,
   "id": "8940c392",
   "metadata": {},
   "outputs": [],
   "source": [
    "## 학습관련 매개변수 설정 \n",
    "n_input     = 4\n",
    "n_hidden    = 20\n",
    "display_step = 10\n",
    "num_epochs = 200 \n",
    "batch_size = 5 \n",
    "lr         = tf.constant(0.01, tf.float32)\n",
    "n_class = 3\n"
   ]
  },
  {
   "cell_type": "markdown",
   "id": "92e7a637",
   "metadata": {},
   "source": [
    "**오류 발생 : module 'tensorflow' has no attribute 'placeholder'** </br>\n",
    "**해결 : tensorflow version1 사용**"
   ]
  },
  {
   "cell_type": "code",
   "execution_count": 10,
   "id": "725e7d1e",
   "metadata": {},
   "outputs": [
    {
     "name": "stdout",
     "output_type": "stream",
     "text": [
      "WARNING:tensorflow:From C:\\Users\\user\\AppData\\Local\\Temp\\ipykernel_8756\\2820872922.py:2: The name tf.disable_v2_behavior is deprecated. Please use tf.compat.v1.disable_v2_behavior instead.\n",
      "\n",
      "WARNING:tensorflow:From C:\\Users\\user\\anaconda3\\Lib\\site-packages\\tensorflow\\python\\compat\\v2_compat.py:98: disable_resource_variables (from tensorflow.python.ops.resource_variables_toggle) is deprecated and will be removed in a future version.\n",
      "Instructions for updating:\n",
      "non-resource variables are not supported in the long term\n"
     ]
    }
   ],
   "source": [
    "import tensorflow.compat.v1 as tf\n",
    "tf.disable_v2_behavior()"
   ]
  },
  {
   "cell_type": "code",
   "execution_count": 11,
   "id": "241ddcfa",
   "metadata": {},
   "outputs": [],
   "source": [
    "## 입력, 가중치 및 편향을 정의함\n",
    "x  = tf.placeholder(tf.float32, [None, n_input], name=\"x\") \n",
    "y  = tf.placeholder(tf.float32, [None,n_class], name=\"y\") \n",
    "W_xh  = tf.Variable(tf.random_normal([n_input, n_hidden], 0.01), name=\"W_xh\") \n",
    "W_hy = tf.Variable(tf.random_normal([n_hidden,n_class], 0.01), name=\"W_hy\")\n",
    "b_i = tf.Variable(tf.zeros([1, n_input],  tf.float32, name=\"b_i\")) \n",
    "b_h = tf.Variable(tf.zeros([1, n_hidden],  tf.float32, name=\"b_h\"))\n",
    "b_y = tf.Variable(tf.zeros([1, n_class],  tf.float32, name=\"b_y\")) "
   ]
  },
  {
   "cell_type": "code",
   "execution_count": 12,
   "id": "f119b6bb",
   "metadata": {},
   "outputs": [],
   "source": [
    "## 확률을 이산 상태, 즉 0과 1로 변환함  \n",
    "def binary(probs):\n",
    "    return tf.floor(probs + tf.random_uniform(tf.shape(probs), 0, 1))\n",
    "          "
   ]
  },
  {
   "cell_type": "code",
   "execution_count": 13,
   "id": "21756631",
   "metadata": {},
   "outputs": [],
   "source": [
    "## Gibbs 표본추출 단계\n",
    "def gibbs_step(x_k,y_k):\n",
    "        h_k = binary(tf.sigmoid(tf.matmul(x_k, W_xh) + tf.matmul(y_k, tf.transpose(W_hy)) + b_h)) \n",
    "        x_k = binary(tf.sigmoid(tf.matmul(h_k, tf.transpose(W_xh)) + b_i))\n",
    "        y_k = tf.nn.softmax(tf.matmul(h_k, W_hy) + b_y)\n",
    "        return x_k,y_k"
   ]
  },
  {
   "cell_type": "code",
   "execution_count": 14,
   "id": "d90aa7e9",
   "metadata": {},
   "outputs": [],
   "source": [
    "## 표본추출 단계 실행    \n",
    "def gibbs_sample(k,x_k,y_k):\n",
    "    for i in range(k):\n",
    "        x_out,y_out = gibbs_step(x_k,y_k) \n",
    "## k 반복 후에 깁스 표본을 반환함\n",
    "    return x_out,y_out"
   ]
  },
  {
   "cell_type": "markdown",
   "id": "71a46d82",
   "metadata": {},
   "source": [
    "**NameError: name 'sample' is not define -> binary로 변경**"
   ]
  },
  {
   "cell_type": "code",
   "execution_count": 19,
   "id": "e2fc31f7",
   "metadata": {},
   "outputs": [],
   "source": [
    "## CD-2 알고리즘\n",
    "# 현재 입력값 및 출력값을 기반으로 깁스 표본추출을 통해 새로운 입력값 x_s, y_s를 구함\n",
    "x_s,y_s = gibbs_sample(2,x,y) \n",
    "# 새로운 x_s, y_s를 기반으로 새로운 은닉노드 값 act_h_s를 구함       \n",
    "act_h_s = tf.sigmoid(tf.matmul(x_s, W_xh) + tf.matmul(y_s, tf.transpose(W_hy)) + b_h)  \n",
    "# 입력값 및 출력값이 주어질 때 은닉노드 값 act_h를 구함\n",
    "act_h = tf.sigmoid(tf.matmul(x, W_xh) + tf.matmul(y, tf.transpose(W_hy)) + b_h) \n",
    "# 은닉노드 값이 주어질 때 입력값을 추출함\n",
    "_x = binary(tf.sigmoid(tf.matmul(act_h, tf.transpose(W_xh)) + b_i))"
   ]
  },
  {
   "cell_type": "markdown",
   "id": "115b494f",
   "metadata": {},
   "source": [
    "**RuntimeError: x: Attempting to capture an EagerTensor without building a function.** </br>\n",
    "-> 이 또한 버전 오류이므로 버전 낮추기       "
   ]
  },
  {
   "cell_type": "code",
   "execution_count": 30,
   "id": "1b73aa2f",
   "metadata": {},
   "outputs": [],
   "source": [
    "tf.compat.v1.disable_eager_execution()"
   ]
  },
  {
   "cell_type": "code",
   "execution_count": 35,
   "id": "92405fef",
   "metadata": {},
   "outputs": [],
   "source": [
    "## 경사 하강법을 이용한 분류용-RBM의 가중치 및 편향 업데이트 \n",
    "W_xh_add = tf.multiply(lr/batch_size, tf.subtract(tf.matmul(tf.transpose(x), act_h), \\\n",
    "\t       tf.matmul(tf.transpose(x_s), act_h_s)))\n",
    "W_hy_add = tf.multiply(lr/batch_size, tf.subtract(tf.matmul(tf.transpose(act_h), y), \\\n",
    "\t       tf.matmul(tf.transpose(act_h_s), y_s)))\n",
    "bi_add = tf.multiply(lr/batch_size, tf.reduce_sum(tf.subtract(x, x_s), 0, True))\n",
    "bh_add = tf.multiply(lr/batch_size, tf.reduce_sum(tf.subtract(act_h, act_h_s), 0, True))\n",
    "by_add = tf.multiply(lr/batch_size, tf.reduce_sum(tf.subtract(y, y_s), 0, True))\n",
    "updt = [W_xh.assign_add(W_xh_add), W_hy.assign_add(W_hy_add), b_i.assign_add(bi_add),\\\n",
    "        b_h.assign_add(bh_add), b_y.assign_add(by_add)]"
   ]
  },
  {
   "cell_type": "markdown",
   "id": "f5063e2a",
   "metadata": {},
   "source": [
    "**아래 내용도 버전 오류 : tf.Session() 대신 tf.compat.v1.Session()을 사용**"
   ]
  },
  {
   "cell_type": "code",
   "execution_count": 37,
   "id": "2eb3d42f",
   "metadata": {},
   "outputs": [],
   "source": [
    "import tensorflow.compat.v1 as tf\n",
    "tf.disable_v2_behavior()"
   ]
  },
  {
   "cell_type": "markdown",
   "id": "59c29df2",
   "metadata": {},
   "source": [
    "**아래 내용은 세션을 열었지만, 닫고 다시 사용하지 않아 RuntimeError: Attempted to use a closed Session. 발생** </br>\n",
    "with tf.Session() as sess:를 사용해 해결"
   ]
  },
  {
   "cell_type": "code",
   "execution_count": 48,
   "id": "58c60e8d",
   "metadata": {},
   "outputs": [
    {
     "name": "stdout",
     "output_type": "stream",
     "text": [
      "Training Accuracy: 0.33333334\n"
     ]
    }
   ],
   "source": [
    "/## 훈련 데이터에 대한 분류용-RBM의 정확도 계산\n",
    "tr_lab1 = np.zeros((len(trX),n_class)); tr_lab1[:,0] = 1\n",
    "tr_lab2 = np.zeros((len(trX),n_class)); tr_lab2[:,1] = 1\n",
    "tr_lab3 = np.zeros((len(trX),n_class)); tr_lab3[:,2] = 1\n",
    "    \n",
    "tr_f1_xl = tf.reduce_sum(tf.nn.softplus(tf.matmul(tf.cast(trX,tf.float32), W_xh) \\\n",
    "\t       + tf.matmul(tf.cast(tr_lab1,tf.float32), tf.transpose(W_hy)) + b_h),1)\n",
    "tr_f2_xl = tf.reduce_sum(tf.nn.softplus(tf.matmul(tf.cast(trX,tf.float32), W_xh) \\\n",
    "\t       + tf.matmul(tf.cast(tr_lab2,tf.float32), tf.transpose(W_hy)) + b_h),1)\n",
    "tr_f3_xl = tf.reduce_sum(tf.nn.softplus(tf.matmul(tf.cast(trX,tf.float32), W_xh) \\\n",
    "\t       + tf.matmul(tf.cast(tr_lab3,tf.float32), tf.transpose(W_hy)) + b_h),1)\n",
    "\n",
    "tr_f_xl = b_y + tf.transpose([tr_f1_xl,tr_f2_xl,tr_f3_xl])\n",
    "tr_y_hat = tf.nn.softmax(tr_f_xl)\n",
    "        \n",
    "tr_correct_pred = tf.equal(tf.argmax(tr_y_hat,1), tf.argmax(trY, 1))\n",
    "tr_accuracy = tf.reduce_mean(tf.cast(tr_correct_pred, tf.float32))\n",
    "\n",
    "# Run the computation within a session\n",
    "with tf.Session() as sess:\n",
    "    # Initialize variables if necessary\n",
    "    sess.run(tf.global_variables_initializer())\n",
    "\n",
    "    # Calculate and print training accuracy\n",
    "    accuracy = sess.run(tr_accuracy)\n",
    "    print(\"Training Accuracy:\", accuracy)"
   ]
  },
  {
   "cell_type": "markdown",
   "id": "4b9b50e3",
   "metadata": {},
   "source": [
    "**아래 내용도 세션을 열었지만, 닫고 다시 사용하지 않아 RuntimeError: Attempted to use a closed Session. 발생** </br>\n",
    "with tf.Session() as sess:를 사용해 해결"
   ]
  },
  {
   "cell_type": "code",
   "execution_count": 50,
   "id": "c1e0f557",
   "metadata": {},
   "outputs": [
    {
     "name": "stdout",
     "output_type": "stream",
     "text": [
      "Test Accuracy: 0.33333334\n"
     ]
    }
   ],
   "source": [
    "## 검정 데이터에 대한 분류용-RBM의 정확도 계산 \n",
    "te_lab1 = np.zeros((len(teX),n_class)); te_lab1[:,0] = 1\n",
    "te_lab2 = np.zeros((len(teX),n_class)); te_lab2[:,1] = 1\n",
    "te_lab3 = np.zeros((len(teX),n_class)); te_lab3[:,2] = 1\n",
    "    \n",
    "te_f1_xl = tf.reduce_sum(tf.nn.softplus(tf.matmul(tf.cast(teX,tf.float32), W_xh) \\\n",
    "\t       + tf.matmul(tf.cast(te_lab1,tf.float32), tf.transpose(W_hy)) + b_h),1)\n",
    "te_f2_xl = tf.reduce_sum(tf.nn.softplus(tf.matmul(tf.cast(teX,tf.float32), W_xh) \\\n",
    "\t       + tf.matmul(tf.cast(te_lab2,tf.float32), tf.transpose(W_hy)) + b_h),1)\n",
    "te_f3_xl = tf.reduce_sum(tf.nn.softplus(tf.matmul(tf.cast(teX,tf.float32), W_xh) \\\n",
    "\t       + tf.matmul(tf.cast(te_lab3,tf.float32), tf.transpose(W_hy)) + b_h),1)\n",
    "\n",
    "te_f_xl = b_y + tf.transpose([te_f1_xl,te_f2_xl,te_f3_xl])\n",
    "te_y_hat = tf.nn.softmax(te_f_xl)\n",
    "    \n",
    "te_correct_pred = tf.equal(tf.argmax(te_y_hat,1), tf.argmax(teY, 1))\n",
    "te_accuracy = tf.reduce_mean(tf.cast(te_correct_pred, tf.float32))\n",
    "\n",
    "\n",
    "# Run the computation within a session\n",
    "with tf.Session() as sess:\n",
    "    # Initialize variables if necessary\n",
    "    sess.run(tf.global_variables_initializer())\n",
    "\n",
    "    # Calculate and print training accuracy\n",
    "    accuracy = sess.run(tr_accuracy)\n",
    "    print(\"Test Accuracy:\", sess.run(te_accuracy))"
   ]
  }
 ],
 "metadata": {
  "kernelspec": {
   "display_name": "Python 3 (ipykernel)",
   "language": "python",
   "name": "python3"
  },
  "language_info": {
   "codemirror_mode": {
    "name": "ipython",
    "version": 3
   },
   "file_extension": ".py",
   "mimetype": "text/x-python",
   "name": "python",
   "nbconvert_exporter": "python",
   "pygments_lexer": "ipython3",
   "version": "3.9.18"
  }
 },
 "nbformat": 4,
 "nbformat_minor": 5
}
