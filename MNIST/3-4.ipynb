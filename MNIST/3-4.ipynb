{
 "cells": [
  {
   "cell_type": "markdown",
   "id": "fbbf803d",
   "metadata": {},
   "source": [
    "# 3-4: Autoencoder를 iris 데이터에 적용"
   ]
  },
  {
   "cell_type": "markdown",
   "id": "00a876cd",
   "metadata": {},
   "source": [
    "**버전 문제로 아래 코드를 추가**"
   ]
  },
  {
   "cell_type": "code",
   "execution_count": 1,
   "id": "3902eda8",
   "metadata": {},
   "outputs": [
    {
     "name": "stdout",
     "output_type": "stream",
     "text": [
      "WARNING:tensorflow:From C:\\Users\\user\\AppData\\Local\\Temp\\ipykernel_4076\\2820872922.py:2: The name tf.disable_v2_behavior is deprecated. Please use tf.compat.v1.disable_v2_behavior instead.\n",
      "\n",
      "WARNING:tensorflow:From C:\\Users\\user\\anaconda3\\Lib\\site-packages\\tensorflow\\python\\compat\\v2_compat.py:98: disable_resource_variables (from tensorflow.python.ops.resource_variables_toggle) is deprecated and will be removed in a future version.\n",
      "Instructions for updating:\n",
      "non-resource variables are not supported in the long term\n"
     ]
    }
   ],
   "source": [
    "import tensorflow.compat.v1 as tf\n",
    "tf.disable_v2_behavior()"
   ]
  },
  {
   "cell_type": "code",
   "execution_count": 2,
   "id": "ab79656d",
   "metadata": {},
   "outputs": [],
   "source": [
    "## 필요한 라이브러리를 불러들임 \n",
    "import numpy as np\n",
    "import pandas as pd\n",
    "import matplotlib.pyplot as plt"
   ]
  },
  {
   "cell_type": "code",
   "execution_count": 3,
   "id": "9efdb00c",
   "metadata": {},
   "outputs": [],
   "source": [
    "## iris 데이터 불러오기\n",
    "url='https://raw.githubusercontent.com/uiuc-cse/data-fa14/gh-pages/data/iris.csv'\n",
    "iris = pd.read_csv(url)\n",
    "\n",
    "## iris 데이터를 입력 데이터와 출력 데이터로 분리        \n",
    "irisX = np.array(iris.iloc[:,:4])\n",
    "irisY = iris.iloc[:,4]   \n",
    "\n",
    "## 입력 데이터의 min-max 정규화 \n",
    "minmax = np.amin(irisX, 0), np.amax(irisX, 0)\n",
    "no_irisX = (irisX-minmax[0])/(minmax[1]-minmax[0])"
   ]
  },
  {
   "cell_type": "code",
   "execution_count": 5,
   "id": "50022302",
   "metadata": {},
   "outputs": [],
   "source": [
    "## 학습관련 매개변수 설정 \n",
    "n_input     = 4\n",
    "n_hidden    = 2  \n",
    "n_output = n_input\n",
    "learning_rate = 0.01\n",
    "n_class = 3\n",
    "num_epoch = 1000"
   ]
  },
  {
   "cell_type": "code",
   "execution_count": 6,
   "id": "10f3ec77",
   "metadata": {},
   "outputs": [
    {
     "name": "stdout",
     "output_type": "stream",
     "text": [
      "WARNING:tensorflow:From C:\\Users\\user\\AppData\\Local\\Temp\\ipykernel_4076\\356568288.py:2: The name tf.placeholder is deprecated. Please use tf.compat.v1.placeholder instead.\n",
      "\n",
      "WARNING:tensorflow:From C:\\Users\\user\\AppData\\Local\\Temp\\ipykernel_4076\\356568288.py:7: The name tf.train.AdamOptimizer is deprecated. Please use tf.compat.v1.train.AdamOptimizer instead.\n",
      "\n"
     ]
    }
   ],
   "source": [
    "## 오토인코더 구축 및 계산\n",
    "X = tf.compat.v1.placeholder(tf.float32, shape=[None, n_input])\n",
    "hidden = tf.keras.layers.Dense(n_hidden, activation=None)(X)\n",
    "output = tf.keras.layers.Dense(n_output, activation=None)(hidden)\n",
    "\n",
    "reconstruction_loss = tf.reduce_mean(tf.square(output - X))\n",
    "optimizer = tf.train.AdamOptimizer(learning_rate)\n",
    "training_op = optimizer.minimize(reconstruction_loss)\n",
    "\n",
    "codings = hidden"
   ]
  },
  {
   "cell_type": "code",
   "execution_count": 7,
   "id": "098f1922",
   "metadata": {},
   "outputs": [],
   "source": [
    "## 텐서플로 그래프 실행\n",
    "with tf.Session() as sess:\n",
    "    init = tf.global_variables_initializer()\n",
    "    sess.run(init)\n",
    "\n",
    "    # 학습 시작  \n",
    "    for iteration in range(num_epoch):\n",
    "        sess.run(training_op, feed_dict={X: no_irisX})\n",
    "    \n",
    "    codings_val = codings.eval(feed_dict={X: no_irisX})"
   ]
  },
  {
   "cell_type": "code",
   "execution_count": 8,
   "id": "545db9f5",
   "metadata": {},
   "outputs": [
    {
     "data": {
      "image/png": "[encoded data removed]",
      "text/plain": [
       "<Figure size 640x480 with 1 Axes>"
      ]
     },
     "metadata": {},
     "output_type": "display_data"
    }
   ],
   "source": [
    "## 오토인코더 은닉노드의 값 산점도\n",
    "plt.scatter(codings_val[np.where(irisY=='setosa')[0], 0], codings_val[np.where(irisY=='setosa')[0], 1], color = 'red')\n",
    "plt.scatter(codings_val[np.where(irisY=='virginica')[0], 0], codings_val[np.where(irisY=='virginica')[0], 1], color = 'blue')\n",
    "plt.scatter(codings_val[np.where(irisY=='versicolor')[0], 0], codings_val[np.where(irisY=='versicolor')[0], 1], color = 'black')\n",
    "plt.xlabel(\"$z_1$\", fontsize=16)\n",
    "plt.ylabel(\"$z_2$\", fontsize=16, rotation=0)\n",
    "plt.show()"
   ]
  }
 ],
 "metadata": {
  "kernelspec": {
   "display_name": "Python 3 (ipykernel)",
   "language": "python",
   "name": "python3"
  },
  "language_info": {
   "codemirror_mode": {
    "name": "ipython",
    "version": 3
   },
   "file_extension": ".py",
   "mimetype": "text/x-python",
   "name": "python",
   "nbconvert_exporter": "python",
   "pygments_lexer": "ipython3",
   "version": "3.9.18"
  }
 },
 "nbformat": 4,
 "nbformat_minor": 5
}
