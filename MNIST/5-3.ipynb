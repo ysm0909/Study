{
 "cells": [
  {
   "cell_type": "code",
   "execution_count": 1,
   "id": "4c51d2d7-b9d3-40b3-9175-cba65984c1d2",
   "metadata": {},
   "outputs": [],
   "source": [
    "import tensorflow as tf\n",
    "from tensorflow.keras.layers import Layer, Conv2D, MaxPool2D, AveragePooling2D, Dense, Flatten\n",
    "from tensorflow.keras.models import Model\n",
    "from tensorflow.keras.optimizers import Adam"
   ]
  },
  {
   "cell_type": "code",
   "execution_count": 2,
   "id": "d789b71c-732f-4965-90a7-9803a7110598",
   "metadata": {},
   "outputs": [],
   "source": [
    "# 데이터 로드\n",
    "mnist = tf.keras.datasets.mnist"
   ]
  },
  {
   "cell_type": "code",
   "execution_count": 3,
   "id": "67ccb3a0-7ef1-43e9-88a4-53bf168df2c9",
   "metadata": {},
   "outputs": [],
   "source": [
    "# 데이터 전처리\n",
    "(x_train, y_train), (x_test, y_test) = mnist.load_data()\n",
    "x_train, x_test = x_train / 255.0, x_test / 255.0  # 데이터 정규화\n",
    "x_train = x_train[..., tf.newaxis]\n",
    "x_test = x_test[..., tf.newaxis]\n",
    "y_train = tf.keras.utils.to_categorical(y_train, 10)\n",
    "y_test = tf.keras.utils.to_categorical(y_test, 10)"
   ]
  },
  {
   "cell_type": "code",
   "execution_count": 4,
   "id": "4ddab97e-c158-444c-8398-3dcdd2144d8e",
   "metadata": {},
   "outputs": [],
   "source": [
    "# ResNet 블록 클래스 정의\n",
    "class ResNetBlock(Layer):\n",
    "    def __init__(self, num_filters, bottleneck_size):\n",
    "        super(ResNetBlock, self).__init__()\n",
    "        self.conv1 = Conv2D(bottleneck_size, (1, 1), activation='relu')\n",
    "        self.conv2 = Conv2D(bottleneck_size, (3, 3), padding='same', activation='relu')\n",
    "        self.conv3 = Conv2D(num_filters, (1, 1), activation='relu')\n",
    "\n",
    "    def call(self, inputs):\n",
    "        x = self.conv1(inputs)\n",
    "        x = self.conv2(x)\n",
    "        x = self.conv3(x)\n",
    "        return tf.nn.relu(x + inputs)  # Residual connection"
   ]
  },
  {
   "cell_type": "code",
   "execution_count": 8,
   "id": "a0a0f3b7-17fd-44c6-aa08-90aaf81b1257",
   "metadata": {},
   "outputs": [],
   "source": [
    "class ResNetBlock(Layer):\n",
    "    def __init__(self, num_filters, bottleneck_size):\n",
    "        super(ResNetBlock, self).__init__()\n",
    "        self.conv1 = Conv2D(bottleneck_size, (1, 1), activation='relu')\n",
    "        self.conv2 = Conv2D(bottleneck_size, (3, 3), padding='same', activation='relu')\n",
    "        self.conv3 = Conv2D(num_filters, (1, 1), activation='relu')\n",
    "        self.adjust_dims = Conv2D(num_filters, (1, 1), activation='relu')  # 차원 조정을 위한 추가 컨볼루션\n",
    "\n",
    "    def call(self, inputs):\n",
    "        x = self.conv1(inputs)\n",
    "        x = self.conv2(x)\n",
    "        x = self.conv3(x)\n",
    "        inputs_adjusted = self.adjust_dims(inputs)  # 입력 차원을 출력과 일치시킴\n",
    "        return tf.nn.relu(x + inputs_adjusted)  # 잔차 연결"
   ]
  },
  {
   "cell_type": "code",
   "execution_count": 9,
   "id": "d022ebce-2ee2-41f6-a80d-430fb33aa8b7",
   "metadata": {},
   "outputs": [],
   "source": [
    "# 모델 인스턴스 생성 및 컴파일\n",
    "model = ResNetModel()\n",
    "model.compile(optimizer=Adam(0.0001), loss='categorical_crossentropy', metrics=['accuracy'])"
   ]
  },
  {
   "cell_type": "code",
   "execution_count": 10,
   "id": "1f37e87c-b5e5-4106-a819-ba18a94303e5",
   "metadata": {},
   "outputs": [
    {
     "name": "stdout",
     "output_type": "stream",
     "text": [
      "Epoch 1/10\n",
      "\u001b[1m600/600\u001b[0m \u001b[32m━━━━━━━━━━━━━━━━━━━━\u001b[0m\u001b[37m\u001b[0m \u001b[1m285s\u001b[0m 465ms/step - accuracy: 0.7643 - loss: 0.7324\n",
      "Epoch 2/10\n",
      "\u001b[1m600/600\u001b[0m \u001b[32m━━━━━━━━━━━━━━━━━━━━\u001b[0m\u001b[37m\u001b[0m \u001b[1m329s\u001b[0m 548ms/step - accuracy: 0.9762 - loss: 0.0768\n",
      "Epoch 3/10\n",
      "\u001b[1m600/600\u001b[0m \u001b[32m━━━━━━━━━━━━━━━━━━━━\u001b[0m\u001b[37m\u001b[0m \u001b[1m405s\u001b[0m 674ms/step - accuracy: 0.9835 - loss: 0.0531\n",
      "Epoch 4/10\n",
      "\u001b[1m600/600\u001b[0m \u001b[32m━━━━━━━━━━━━━━━━━━━━\u001b[0m\u001b[37m\u001b[0m \u001b[1m316s\u001b[0m 526ms/step - accuracy: 0.9870 - loss: 0.0419\n",
      "Epoch 5/10\n",
      "\u001b[1m600/600\u001b[0m \u001b[32m━━━━━━━━━━━━━━━━━━━━\u001b[0m\u001b[37m\u001b[0m \u001b[1m309s\u001b[0m 514ms/step - accuracy: 0.9899 - loss: 0.0339\n",
      "Epoch 6/10\n",
      "\u001b[1m600/600\u001b[0m \u001b[32m━━━━━━━━━━━━━━━━━━━━\u001b[0m\u001b[37m\u001b[0m \u001b[1m313s\u001b[0m 521ms/step - accuracy: 0.9911 - loss: 0.0284\n",
      "Epoch 7/10\n",
      "\u001b[1m600/600\u001b[0m \u001b[32m━━━━━━━━━━━━━━━━━━━━\u001b[0m\u001b[37m\u001b[0m \u001b[1m1258s\u001b[0m 2s/step - accuracy: 0.9923 - loss: 0.0253\n",
      "Epoch 8/10\n",
      "\u001b[1m600/600\u001b[0m \u001b[32m━━━━━━━━━━━━━━━━━━━━\u001b[0m\u001b[37m\u001b[0m \u001b[1m606s\u001b[0m 1s/step - accuracy: 0.9929 - loss: 0.0222\n",
      "Epoch 9/10\n",
      "\u001b[1m600/600\u001b[0m \u001b[32m━━━━━━━━━━━━━━━━━━━━\u001b[0m\u001b[37m\u001b[0m \u001b[1m619s\u001b[0m 1s/step - accuracy: 0.9940 - loss: 0.0188\n",
      "Epoch 10/10\n",
      "\u001b[1m600/600\u001b[0m \u001b[32m━━━━━━━━━━━━━━━━━━━━\u001b[0m\u001b[37m\u001b[0m \u001b[1m608s\u001b[0m 1s/step - accuracy: 0.9940 - loss: 0.0178\n",
      "\u001b[1m313/313\u001b[0m \u001b[32m━━━━━━━━━━━━━━━━━━━━\u001b[0m\u001b[37m\u001b[0m \u001b[1m38s\u001b[0m 119ms/step - accuracy: 0.9895 - loss: 0.0306\n"
     ]
    },
    {
     "data": {
      "text/plain": [
       "[0.023996150121092796, 0.9918000102043152]"
      ]
     },
     "execution_count": 10,
     "metadata": {},
     "output_type": "execute_result"
    }
   ],
   "source": [
    "# 훈련 및 평가\n",
    "model.fit(x_train, y_train, epochs=10, batch_size=100)\n",
    "model.evaluate(x_test, y_test)"
   ]
  },
  {
   "cell_type": "markdown",
   "id": "a112dd7f-ad2a-4594-aecb-22f90d08328d",
   "metadata": {},
   "source": [
    "- Loss: 0.023996150121092796 <br>\n",
    "- Accuracy: 0.9918000102043152"
   ]
  }
 ],
 "metadata": {
  "kernelspec": {
   "display_name": "Python 3 (ipykernel)",
   "language": "python",
   "name": "python3"
  },
  "language_info": {
   "codemirror_mode": {
    "name": "ipython",
    "version": 3
   },
   "file_extension": ".py",
   "mimetype": "text/x-python",
   "name": "python",
   "nbconvert_exporter": "python",
   "pygments_lexer": "ipython3",
   "version": "3.9.18"
  }
 },
 "nbformat": 4,
 "nbformat_minor": 5
}
