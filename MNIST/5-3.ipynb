{
 "cells": [
  {
   "cell_type": "markdown",
   "id": "b72c7067-fed6-4ed2-8f41-0ba84b3c4eaf",
   "metadata": {},
   "source": [
    "텐서플로우 버전 2.x에서 작동할 수 있도록 코드 수정"
   ]
  },
  {
   "cell_type": "code",
   "execution_count": 1,
   "id": "4c51d2d7-b9d3-40b3-9175-cba65984c1d2",
   "metadata": {},
   "outputs": [],
   "source": [
    "import tensorflow as tf\n",
    "from tensorflow.keras.layers import Layer, Conv2D, MaxPool2D, AveragePooling2D, Dense, Flatten\n",
    "from tensorflow.keras.models import Model\n",
    "from tensorflow.keras.optimizers import Adam"
   ]
  },
  {
   "cell_type": "code",
   "execution_count": 2,
   "id": "d789b71c-732f-4965-90a7-9803a7110598",
   "metadata": {},
   "outputs": [],
   "source": [
    "# 데이터 로드\n",
    "mnist = tf.keras.datasets.mnist"
   ]
  },
  {
   "cell_type": "code",
   "execution_count": 3,
   "id": "67ccb3a0-7ef1-43e9-88a4-53bf168df2c9",
   "metadata": {},
   "outputs": [],
   "source": [
    "# 데이터 전처리\n",
    "(x_train, y_train), (x_test, y_test) = mnist.load_data()\n",
    "x_train, x_test = x_train / 255.0, x_test / 255.0  # 데이터 정규화\n",
    "x_train = x_train[..., tf.newaxis]\n",
    "x_test = x_test[..., tf.newaxis]\n",
    "y_train = tf.keras.utils.to_categorical(y_train, 10)\n",
    "y_test = tf.keras.utils.to_categorical(y_test, 10)"
   ]
  },
  {
   "cell_type": "code",
   "execution_count": 4,
   "id": "4ddab97e-c158-444c-8398-3dcdd2144d8e",
   "metadata": {},
   "outputs": [],
   "source": [
    "# ResNet 블록 클래스 정의\n",
    "class ResNetBlock(Layer):\n",
    "    def __init__(self, num_filters, bottleneck_size, adjust_filters=False):\n",
    "        super(ResNetBlock, self).__init__()\n",
    "        self.adjust_filters = adjust_filters  # 입력과 출력 차원을 일치시키기 위한 선택적 차원 조정\n",
    "        self.conv1 = Conv2D(bottleneck_size, (1, 1), activation='relu')  # 기존 코드의 1x1 conv (병목)\n",
    "        self.conv2 = Conv2D(bottleneck_size, (3, 3), padding='same', activation='relu')  # 3x3 conv (병목 중간)\n",
    "        self.conv3 = Conv2D(num_filters, (1, 1), activation='relu')  # 마지막 1x1 conv\n",
    "        if self.adjust_filters:\n",
    "            self.adjust_dims = Conv2D(num_filters, (1, 1), activation='relu')  # 출력 차원을 조정\n",
    "\n",
    "    def call(self, inputs):\n",
    "        x = self.conv1(inputs)\n",
    "        x = self.conv2(x)\n",
    "        x = self.conv3(x)\n",
    "        if self.adjust_filters:\n",
    "            inputs = self.adjust_dims(inputs)  # 입력 차원을 출력과 일치시킴\n",
    "        return tf.nn.relu(x + inputs)  # 잔차 연결 (skip connection)"
   ]
  },
  {
   "cell_type": "code",
   "execution_count": 5,
   "id": "a0a0f3b7-17fd-44c6-aa08-90aaf81b1257",
   "metadata": {},
   "outputs": [],
   "source": [
    "# 전체 모델 구성\n",
    "class ResNetModel(Model):\n",
    "    def __init__(self):\n",
    "        super(ResNetModel, self).__init__()\n",
    "        self.conv1 = Conv2D(64, (7, 7), strides=(2, 2), activation='relu', padding='same')  # 기존 코드의 초기 conv\n",
    "        self.pool1 = MaxPool2D((3, 3), strides=(2, 2), padding='same')  # 초기 pooling\n",
    "        self.block1 = ResNetBlock(128, 32, adjust_filters=True)\n",
    "        self.block2 = ResNetBlock(256, 64, adjust_filters=True)\n",
    "        self.block3 = ResNetBlock(512, 128, adjust_filters=True)\n",
    "        self.block4 = ResNetBlock(1024, 256, adjust_filters=True)\n",
    "        self.avg_pool = AveragePooling2D(pool_size=(4, 4))  # 평균 풀링 (기존 코드의 avg_pool과 일치)\n",
    "        self.flat = Flatten()  # Flatten\n",
    "        self.fc = Dense(10, activation='softmax')  # 최종 fully connected layer와 softmax (분류)\n",
    "\n",
    "    def call(self, inputs):\n",
    "        x = self.conv1(inputs)\n",
    "        x = self.pool1(x)\n",
    "        x = self.block1(x)\n",
    "        x = self.block2(x)\n",
    "        x = self.block3(x)\n",
    "        x = self.block4(x)\n",
    "        x = self.avg_pool(x)\n",
    "        x = self.flat(x)\n",
    "        return self.fc(x)"
   ]
  },
  {
   "cell_type": "code",
   "execution_count": 6,
   "id": "d022ebce-2ee2-41f6-a80d-430fb33aa8b7",
   "metadata": {},
   "outputs": [],
   "source": [
    "# 모델 인스턴스 생성 및 컴파일\n",
    "model = ResNetModel()\n",
    "model.compile(optimizer=Adam(0.0001), loss='categorical_crossentropy', metrics=['accuracy'])"
   ]
  },
  {
   "cell_type": "code",
   "execution_count": 7,
   "id": "1f37e87c-b5e5-4106-a819-ba18a94303e5",
   "metadata": {},
   "outputs": [
    {
     "name": "stdout",
     "output_type": "stream",
     "text": [
      "Epoch 1/10\n",
      "\u001b[1m600/600\u001b[0m \u001b[32m━━━━━━━━━━━━━━━━━━━━\u001b[0m\u001b[37m\u001b[0m \u001b[1m253s\u001b[0m 401ms/step - accuracy: 0.5434 - loss: 1.2805\n",
      "Epoch 2/10\n",
      "\u001b[1m600/600\u001b[0m \u001b[32m━━━━━━━━━━━━━━━━━━━━\u001b[0m\u001b[37m\u001b[0m \u001b[1m249s\u001b[0m 415ms/step - accuracy: 0.9336 - loss: 0.2172\n",
      "Epoch 3/10\n",
      "\u001b[1m600/600\u001b[0m \u001b[32m━━━━━━━━━━━━━━━━━━━━\u001b[0m\u001b[37m\u001b[0m \u001b[1m253s\u001b[0m 421ms/step - accuracy: 0.9587 - loss: 0.1354\n",
      "Epoch 4/10\n",
      "\u001b[1m600/600\u001b[0m \u001b[32m━━━━━━━━━━━━━━━━━━━━\u001b[0m\u001b[37m\u001b[0m \u001b[1m258s\u001b[0m 430ms/step - accuracy: 0.9682 - loss: 0.1037\n",
      "Epoch 5/10\n",
      "\u001b[1m600/600\u001b[0m \u001b[32m━━━━━━━━━━━━━━━━━━━━\u001b[0m\u001b[37m\u001b[0m \u001b[1m245s\u001b[0m 408ms/step - accuracy: 0.9728 - loss: 0.0850\n",
      "Epoch 6/10\n",
      "\u001b[1m600/600\u001b[0m \u001b[32m━━━━━━━━━━━━━━━━━━━━\u001b[0m\u001b[37m\u001b[0m \u001b[1m234s\u001b[0m 390ms/step - accuracy: 0.9760 - loss: 0.0763\n",
      "Epoch 7/10\n",
      "\u001b[1m600/600\u001b[0m \u001b[32m━━━━━━━━━━━━━━━━━━━━\u001b[0m\u001b[37m\u001b[0m \u001b[1m233s\u001b[0m 388ms/step - accuracy: 0.9791 - loss: 0.0666\n",
      "Epoch 8/10\n",
      "\u001b[1m600/600\u001b[0m \u001b[32m━━━━━━━━━━━━━━━━━━━━\u001b[0m\u001b[37m\u001b[0m \u001b[1m233s\u001b[0m 389ms/step - accuracy: 0.9843 - loss: 0.0526\n",
      "Epoch 9/10\n",
      "\u001b[1m600/600\u001b[0m \u001b[32m━━━━━━━━━━━━━━━━━━━━\u001b[0m\u001b[37m\u001b[0m \u001b[1m236s\u001b[0m 393ms/step - accuracy: 0.9841 - loss: 0.0491\n",
      "Epoch 10/10\n",
      "\u001b[1m600/600\u001b[0m \u001b[32m━━━━━━━━━━━━━━━━━━━━\u001b[0m\u001b[37m\u001b[0m \u001b[1m231s\u001b[0m 385ms/step - accuracy: 0.9861 - loss: 0.0470\n",
      "\u001b[1m313/313\u001b[0m \u001b[32m━━━━━━━━━━━━━━━━━━━━\u001b[0m\u001b[37m\u001b[0m \u001b[1m17s\u001b[0m 53ms/step - accuracy: 0.9794 - loss: 0.0677\n"
     ]
    },
    {
     "data": {
      "text/plain": [
       "[0.0546768419444561, 0.9833999872207642]"
      ]
     },
     "execution_count": 7,
     "metadata": {},
     "output_type": "execute_result"
    }
   ],
   "source": [
    "# 훈련 및 평가\n",
    "# 기존 코드 epochs값 너무 커서 훈련에 많은 시간 소요: 100 -> 10 으로 변경\n",
    "model.fit(x_train, y_train, epochs=10, batch_size=100) \n",
    "model.evaluate(x_test, y_test)"
   ]
  },
  {
   "cell_type": "code",
   "execution_count": 18,
   "id": "97ca6f73-241e-40af-95f3-6294c2a53249",
   "metadata": {},
   "outputs": [
    {
     "name": "stdout",
     "output_type": "stream",
     "text": [
      "Test misclassification error: 0.016399989724159125\n",
      "Training misclassification error: 0.01943634688854179\n"
     ]
    }
   ],
   "source": [
    "import numpy as np\n",
    "# 훈련 데이터, 검정 데이터의 오분류율\n",
    "test_accuracy_accumulated = 0\n",
    "train_accuracy_accumulated = 0\n",
    "num_batches = 100\n",
    "\n",
    "for _ in range(num_batches):\n",
    "    # 테스트 데이터셋에서 배치 처리\n",
    "    batch_index_test = np.random.choice(len(x_test), 100, replace=False)\n",
    "    test_loss, test_accuracy = model.evaluate(x_test[batch_index_test], y_test[batch_index_test], verbose=0)\n",
    "    test_accuracy_accumulated += test_accuracy / num_batches\n",
    "\n",
    "    # 훈련 데이터셋에서 배치 처리\n",
    "    batch_index_train = np.random.choice(len(x_train), 550, replace=False)\n",
    "    train_loss, train_accuracy = model.evaluate(x_train[batch_index_train], y_train[batch_index_train], verbose=0)\n",
    "    train_accuracy_accumulated += train_accuracy / num_batches\n",
    "\n",
    "print(\"Test misclassification error:\", 1 - test_accuracy_accumulated)\n",
    "print(\"Training misclassification error:\", 1 - train_accuracy_accumulated)"
   ]
  }
 ],
 "metadata": {
  "kernelspec": {
   "display_name": "Python 3 (ipykernel)",
   "language": "python",
   "name": "python3"
  },
  "language_info": {
   "codemirror_mode": {
    "name": "ipython",
    "version": 3
   },
   "file_extension": ".py",
   "mimetype": "text/x-python",
   "name": "python",
   "nbconvert_exporter": "python",
   "pygments_lexer": "ipython3",
   "version": "3.9.18"
  }
 },
 "nbformat": 4,
 "nbformat_minor": 5
}
