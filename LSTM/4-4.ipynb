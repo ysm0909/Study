{
 "cells": [
  {
   "cell_type": "markdown",
   "id": "147c5607-7774-4995-848b-24598b16cfc2",
   "metadata": {},
   "source": [
    "기존 코드는 텐서플로우 버전 1.xx에서 작동하는 코드로, 버전 2.xx에서는 작동에 어려움이 있었기에, <br>\n",
    "텐서플로우 버전 2.xx에서 작동할 수 있도록 오류가 발생하는 부분에서 코드 수정"
   ]
  },
  {
   "cell_type": "code",
   "execution_count": 1,
   "id": "a2297c6e-b3f3-4ac0-a0e1-34ae1a972fc7",
   "metadata": {},
   "outputs": [],
   "source": [
    "# 필요한 라이브러리 부름\n",
    "import tensorflow as tf\n",
    "import numpy as np\n",
    "import np_utils \n",
    "import matplotlib.pyplot as plt"
   ]
  },
  {
   "cell_type": "code",
   "execution_count": 2,
   "id": "f1a385d8-f8a2-4cdb-af6c-30febbf7455a",
   "metadata": {},
   "outputs": [],
   "source": [
    "# 재현성을 위해 시드 지정: TensorFlow 2.x에서는 tf.random.set_seed(seed) 사용\n",
    "tf.random.set_seed(0)"
   ]
  },
  {
   "cell_type": "code",
   "execution_count": 3,
   "id": "6629c55f-b4d9-4910-971e-e72c62e62f00",
   "metadata": {},
   "outputs": [],
   "source": [
    "# 매개변수 지정\n",
    "# 학습률: 0.1\n",
    "# 반복 수: 10000\n",
    "# 임베딩 차원: 2\n",
    "# 윈도우 크기: 1\n",
    "learning_rate=0.1\n",
    "nepochs=10000\n",
    "embedding_dim=2\n",
    "window_size = 1"
   ]
  },
  {
   "cell_type": "code",
   "execution_count": 4,
   "id": "a5c18c68-8c9d-4fa1-b95f-b1e090f3db7b",
   "metadata": {},
   "outputs": [],
   "source": [
    "# 워드 임베딩에 적용할 문장\n",
    "#text = 'Arthur is a famous king He is a brave man The king is royal Elizabeth is the royal  queen She is a beautiful woman'\n",
    "text =\"King is a brave man Queen is a beautiful woman\"\n",
    "\n",
    "# 소문자로 변환\n",
    "text = text.lower()\n",
    "\n",
    "# 간단한 불용어와 문자 그리고 숫자 제거\n",
    "word_seq = []\n",
    "for word in text.split():\n",
    "    if ((word != '.') & (word not in '0123456789')& (word not in ['a','is', 'the'] )):\n",
    "        word_seq.append(word)\n",
    "        \n",
    "# 고유한 단어들로 만든 집합\n",
    "unique_words = set(word_seq) \n",
    "n_unique_words = len(unique_words) \n",
    "\n",
    "# 단어와 정수 매핑\n",
    "word_to_int = {w: i for i, w in enumerate(unique_words)}\n",
    "int_to_word = {i: w for i, w in enumerate(unique_words)}"
   ]
  },
  {
   "cell_type": "code",
   "execution_count": 5,
   "id": "b71294ce-a6bf-4896-8644-f80b3db1650e",
   "metadata": {},
   "outputs": [],
   "source": [
    "# 훈련에 사용될 데이터 [input, target] 만듬              \n",
    "data = []\n",
    "for i in range(1, len(word_seq) - 1):\n",
    "    # [input, target] = [neighbors, target]\n",
    "    target = word_seq[i]\n",
    "    neighbor=[]\n",
    "    for j in range(window_size):\n",
    "        neighbor.append(word_seq[i - j-1])\n",
    "        neighbor.append(word_seq[i +  j+ 1])\n",
    "\n",
    "    for w in neighbor:\n",
    "        data.append([w, target])"
   ]
  },
  {
   "cell_type": "code",
   "execution_count": 34,
   "id": "5421e149-0a5f-4210-8460-df794d9c2fc7",
   "metadata": {},
   "outputs": [],
   "source": [
    "# 원-핫 벡터로 변환\n",
    "from keras.utils import to_categorical  # 모듈 추가\n",
    "x_train = [] \n",
    "y_train = [] \n",
    "\n",
    "for w in data:\n",
    "    # 기존 코드 수정: np_utils.to_categorical -> to_categorical\n",
    "    x_train.append(to_categorical(word_to_int[w[0]] , n_unique_words)) \n",
    "    y_train.append(to_categorical(word_to_int[w[1]] , n_unique_words))\n",
    "    \n",
    "# 넘파이 arrary로 변환\n",
    "x_train = np.asarray(x_train)\n",
    "y_train = np.asarray(y_train)\n",
    "\n",
    "# 훈련에 사용될 placeholder\n",
    "# 기존 코드 수정: placeholder 대신 tf.keras.Input 사용\n",
    "X = tf.keras.Input(shape=(n_unique_words,), dtype=tf.float32)\n",
    "Y = tf.keras.Input(shape=(n_unique_words,), dtype=tf.float32)\n",
    "\n",
    "# 입력층과 은닉층의 가중치\n",
    "# 기존 코드 수정: tf.random_normal -> tf.random.normal\n",
    "W1 = tf.Variable(tf.random.normal([n_unique_words, embedding_dim]))\n",
    "b1 = tf.Variable(tf.random.normal([embedding_dim]))\n",
    "\n",
    "# 은닉층 값 (Dense 층 사용)\n",
    "# tf.keras.Input은 TensorFlow 연산에 직접 사용하면 안됨\n",
    "hidden_representation = tf.keras.layers.Dense(embedding_dim, activation='relu')(X)\n",
    "# 은닉층과 출력층의 가중치: 기존 코드 수정(tf.random_normal -> tf.random.normal)\n",
    "W2 = tf.Variable(tf.random.normal([embedding_dim, n_unique_words]))\n",
    "b2 = tf.Variable(tf.random.normal([n_unique_words]))\n",
    "\n",
    "# 출력층 값 계산 (Softmax 레이어 사용)\n",
    "output_layer_logits = tf.keras.layers.Dense(n_unique_words)(hidden_representation)\n",
    "prediction = tf.keras.layers.Softmax()(output_layer_logits)\n",
    "\n",
    "# 손실함수: 위키독스 \"토닥토닥 파이썬 - 딥러닝 (텐서플로우 v2)\" 참고 \n",
    "def categorical_crossentropy(Y, predictions):\n",
    "    cross_entropy = tf.reduce_sum(Y * (-tf.math.log(prediction)), axis=1) \n",
    "    cross_entropy_loss = tf.reduce_mean(cross_entropy)\n",
    "    return cross_entropy_loss\n",
    "\n",
    "# optimizer 정의\n",
    "optimizer = tf.keras.optimizers.SGD(learning_rate)"
   ]
  },
  {
   "cell_type": "code",
   "execution_count": 36,
   "id": "3cb7253c-7f3d-4a8a-8990-affc1b58396d",
   "metadata": {
    "scrolled": true
   },
   "outputs": [
    {
     "name": "stdout",
     "output_type": "stream",
     "text": [
      "Epoch=0, Loss=2.240368366241455\n",
      "Epoch=100, Loss=0.5861372947692871\n",
      "Epoch=200, Loss=0.42659276723861694\n",
      "Epoch=300, Loss=0.3855101466178894\n",
      "Epoch=400, Loss=0.37079355120658875\n",
      "Epoch=500, Loss=0.3637145161628723\n",
      "Epoch=600, Loss=0.35965970158576965\n",
      "Epoch=700, Loss=0.35706788301467896\n",
      "Epoch=800, Loss=0.3552834093570709\n",
      "Epoch=900, Loss=0.35398733615875244\n",
      "Epoch=1000, Loss=0.3530072271823883\n",
      "Epoch=1100, Loss=0.35224252939224243\n",
      "Epoch=1200, Loss=0.3516307473182678\n",
      "Epoch=1300, Loss=0.3511311113834381\n",
      "Epoch=1400, Loss=0.3507160544395447\n",
      "Epoch=1500, Loss=0.3503662347793579\n",
      "Epoch=1600, Loss=0.35006773471832275\n",
      "Epoch=1700, Loss=0.34981024265289307\n",
      "Epoch=1800, Loss=0.3495860993862152\n",
      "Epoch=1900, Loss=0.3493892550468445\n",
      "Epoch=2000, Loss=0.34921514987945557\n",
      "Epoch=2100, Loss=0.34906017780303955\n",
      "Epoch=2200, Loss=0.3489214777946472\n",
      "Epoch=2300, Loss=0.3487965166568756\n",
      "Epoch=2400, Loss=0.3486834764480591\n",
      "Epoch=2500, Loss=0.3485807776451111\n",
      "Epoch=2600, Loss=0.3484870493412018\n",
      "Epoch=2700, Loss=0.3484012484550476\n",
      "Epoch=2800, Loss=0.34832239151000977\n",
      "Epoch=2900, Loss=0.34824973344802856\n",
      "Epoch=3000, Loss=0.34818243980407715\n",
      "Epoch=3100, Loss=0.34812015295028687\n",
      "Epoch=3200, Loss=0.3480622172355652\n",
      "Epoch=3300, Loss=0.34800827503204346\n",
      "Epoch=3400, Loss=0.3479578495025635\n",
      "Epoch=3500, Loss=0.34791064262390137\n",
      "Epoch=3600, Loss=0.347866415977478\n",
      "Epoch=3700, Loss=0.3478248715400696\n",
      "Epoch=3800, Loss=0.34778571128845215\n",
      "Epoch=3900, Loss=0.34774887561798096\n",
      "Epoch=4000, Loss=0.3477141261100769\n",
      "Epoch=4100, Loss=0.3476811647415161\n",
      "Epoch=4200, Loss=0.34765005111694336\n",
      "Epoch=4300, Loss=0.3476204574108124\n",
      "Epoch=4400, Loss=0.34759241342544556\n",
      "Epoch=4500, Loss=0.3475657105445862\n",
      "Epoch=4600, Loss=0.34754037857055664\n",
      "Epoch=4700, Loss=0.34751617908477783\n",
      "Epoch=4800, Loss=0.34749311208724976\n",
      "Epoch=4900, Loss=0.34747105836868286\n",
      "Epoch=5000, Loss=0.34745004773139954\n",
      "Epoch=5100, Loss=0.34742993116378784\n",
      "Epoch=5200, Loss=0.347410649061203\n",
      "Epoch=5300, Loss=0.34739214181900024\n",
      "Epoch=5400, Loss=0.34737446904182434\n",
      "Epoch=5500, Loss=0.3473574221134186\n",
      "Epoch=5600, Loss=0.34734106063842773\n",
      "Epoch=5700, Loss=0.3473253846168518\n",
      "Epoch=5800, Loss=0.34731030464172363\n",
      "Epoch=5900, Loss=0.34729576110839844\n",
      "Epoch=6000, Loss=0.3472817540168762\n",
      "Epoch=6100, Loss=0.3472682237625122\n",
      "Epoch=6200, Loss=0.3472551703453064\n",
      "Epoch=6300, Loss=0.3472426235675812\n",
      "Epoch=6400, Loss=0.3472304344177246\n",
      "Epoch=6500, Loss=0.34721875190734863\n",
      "Epoch=6600, Loss=0.3472073972225189\n",
      "Epoch=6700, Loss=0.34719645977020264\n",
      "Epoch=6800, Loss=0.34718582034111023\n",
      "Epoch=6900, Loss=0.3471755385398865\n",
      "Epoch=7000, Loss=0.347165584564209\n",
      "Epoch=7100, Loss=0.34715592861175537\n",
      "Epoch=7200, Loss=0.34714657068252563\n",
      "Epoch=7300, Loss=0.34713754057884216\n",
      "Epoch=7400, Loss=0.347128689289093\n",
      "Epoch=7500, Loss=0.34712016582489014\n",
      "Epoch=7600, Loss=0.34711185097694397\n",
      "Epoch=7700, Loss=0.3471038341522217\n",
      "Epoch=7800, Loss=0.34709593653678894\n",
      "Epoch=7900, Loss=0.3470883071422577\n",
      "Epoch=8000, Loss=0.34708094596862793\n",
      "Epoch=8100, Loss=0.3470737040042877\n",
      "Epoch=8200, Loss=0.34706664085388184\n",
      "Epoch=8300, Loss=0.34705978631973267\n",
      "Epoch=8400, Loss=0.3470531404018402\n",
      "Epoch=8500, Loss=0.3470466434955597\n",
      "Epoch=8600, Loss=0.3470403254032135\n",
      "Epoch=8700, Loss=0.34703415632247925\n",
      "Epoch=8800, Loss=0.3470281660556793\n",
      "Epoch=8900, Loss=0.34702229499816895\n",
      "Epoch=9000, Loss=0.3470165729522705\n",
      "Epoch=9100, Loss=0.347010999917984\n",
      "Epoch=9200, Loss=0.34700554609298706\n",
      "Epoch=9300, Loss=0.34700021147727966\n",
      "Epoch=9400, Loss=0.3469949960708618\n",
      "Epoch=9500, Loss=0.34698987007141113\n",
      "Epoch=9600, Loss=0.3469849228858948\n",
      "Epoch=9700, Loss=0.3469800353050232\n",
      "Epoch=9800, Loss=0.34697532653808594\n",
      "Epoch=9900, Loss=0.34697067737579346\n"
     ]
    }
   ],
   "source": [
    "#------------------------------------------------\n",
    "# 텐서플로 그래프 생성 및 학습 \n",
    "#------------------------------------------------\n",
    "losses = []\n",
    "for epoch in range(nepochs):\n",
    "    with tf.GradientTape() as tape:\n",
    "        hidden_representation = tf.add(tf.matmul(x_train, W1), b1)\n",
    "        prediction = tf.nn.softmax(tf.add(tf.matmul(hidden_representation, W2), b2))\n",
    "        loss = tf.reduce_mean(-tf.reduce_sum(y_train * tf.math.log(prediction), axis=1))\n",
    "    \n",
    "    gradients = tape.gradient(loss, [W1, b1, W2, b2])\n",
    "    optimizer.apply_gradients(zip(gradients, [W1, b1, W2, b2]))\n",
    "    \n",
    "    losses.append(loss)\n",
    "    \n",
    "    if epoch % 100 == 0:\n",
    "        print('Epoch={}, Loss={}'.format(epoch, loss))"
   ]
  },
  {
   "cell_type": "code",
   "execution_count": 37,
   "id": "dd967159-6f1c-442a-b3c5-90b5fa7be77d",
   "metadata": {},
   "outputs": [
    {
     "data": {
      "text/plain": [
       "Text(0, 0.5, 'Losses')"
      ]
     },
     "execution_count": 37,
     "metadata": {},
     "output_type": "execute_result"
    },
    {
     "data": {
      "image/png": "[encoded data removed]",
      "text/plain": [
       "<Figure size 700x700 with 1 Axes>"
      ]
     },
     "metadata": {},
     "output_type": "display_data"
    }
   ],
   "source": [
    "# 훈련과정의 loss 그림      \n",
    "fig, ax = plt.subplots(figsize=(7,7))\n",
    "losses = np.array(losses)\n",
    "plt.plot(losses)\n",
    "ax.set_xlabel('epochs')\n",
    "ax.set_ylabel('Losses')"
   ]
  },
  {
   "cell_type": "code",
   "execution_count": 38,
   "id": "ff199111-5f70-4419-9840-a3980dfba24a",
   "metadata": {},
   "outputs": [
    {
     "name": "stdout",
     "output_type": "stream",
     "text": [
      "tf.Tensor(\n",
      "[[ 2.4366765 -1.0422685]\n",
      " [ 1.4779142  2.916952 ]\n",
      " [-2.0306478  1.7680478]\n",
      " [ 2.4744697  1.065182 ]\n",
      " [-2.2060013 -0.2802062]\n",
      " [-1.3303946 -2.2005389]], shape=(6, 2), dtype=float32)\n"
     ]
    }
   ],
   "source": [
    "# 임베딩 결과\n",
    "vectors = W1 + b1.numpy()\n",
    "print(vectors)"
   ]
  },
  {
   "cell_type": "code",
   "execution_count": 43,
   "id": "60f68fea-7f60-4516-b6e1-d0d97acdc4c3",
   "metadata": {},
   "outputs": [
    {
     "data": {
      "image/png": "[encoded data removed]",
      "text/plain": [
       "<Figure size 640x480 with 1 Axes>"
      ]
     },
     "metadata": {},
     "output_type": "display_data"
    }
   ],
   "source": [
    "# 임베딩 그래프\n",
    "fig, ax = plt.subplots()\n",
    "for i, label in enumerate(word_to_int):\n",
    "    x, y = vectors[i]\n",
    "    plt.xlim(-10,10)\n",
    "    plt.ylim(-10,10)\n",
    "    plt.scatter(x, y)\n",
    "    plt.annotate(label, xy=(x, y), xytext=(5, 2),\n",
    "                 textcoords='offset points', ha='right', va='bottom')\n",
    "plt.show()"
   ]
  }
 ],
 "metadata": {
  "kernelspec": {
   "display_name": "Python 3 (ipykernel)",
   "language": "python",
   "name": "python3"
  },
  "language_info": {
   "codemirror_mode": {
    "name": "ipython",
    "version": 3
   },
   "file_extension": ".py",
   "mimetype": "text/x-python",
   "name": "python",
   "nbconvert_exporter": "python",
   "pygments_lexer": "ipython3",
   "version": "3.9.18"
  }
 },
 "nbformat": 4,
 "nbformat_minor": 5
}
