{
 "cells": [
  {
   "cell_type": "markdown",
   "id": "edf54c61-4072-48c1-88ae-7e6a2df7c676",
   "metadata": {},
   "source": [
    "# **2-3 텐서플로: 분류 응용**"
   ]
  },
  {
   "cell_type": "code",
   "execution_count": 5,
   "id": "a2706b5a-7b2f-4a04-acb7-fbccd0a0ecdf",
   "metadata": {},
   "outputs": [],
   "source": [
    "# -*- coding: utf-8 -*-\n",
    "\n",
    "import pandas as pd\n",
    "import tensorflow as tf\n",
    "import random"
   ]
  },
  {
   "cell_type": "code",
   "execution_count": 6,
   "id": "68b122de-e9cf-410e-9c8f-a01521d90336",
   "metadata": {},
   "outputs": [
    {
     "name": "stdout",
     "output_type": "stream",
     "text": [
      "2.16.1\n"
     ]
    }
   ],
   "source": [
    "print(tf.__version__)"
   ]
  },
  {
   "cell_type": "code",
   "execution_count": 61,
   "id": "7f73b230-8625-41d0-9616-bdd9dfe1e650",
   "metadata": {},
   "outputs": [],
   "source": [
    "infert = pd.read_csv(\"infert.csv\", delimiter = \",\")                #  데이터 불러오기\n",
    "\n",
    "X_data = infert[[\"parity\", \"induced\", \"spontaneous\"]] \t\t #  X, y 정의\n",
    "y_data = infert[\"case\"]"
   ]
  },
  {
   "cell_type": "code",
   "execution_count": 62,
   "id": "879ae34b-ab7a-4413-bc52-e3dfb4b4aad4",
   "metadata": {},
   "outputs": [],
   "source": [
    "train_idx = random.sample(list(range(len(infert))), int(len(infert) * 0.7 ))\n",
    "train_X = X_data.iloc[train_idx]  \t\t\t #  train, test 데이터로 분할\n",
    "train_y = y_data[train_idx]\n",
    "\n",
    "test_X = X_data.drop(train_idx)\n",
    "test_y = y_data.drop(train_idx)"
   ]
  },
  {
   "cell_type": "markdown",
   "id": "2111a3d3-c9f1-45eb-b04a-43ece9c9e85f",
   "metadata": {},
   "source": [
    "**오류 발생 : module 'tensorflow' has no attribute 'placeholder'**"
   ]
  },
  {
   "cell_type": "code",
   "execution_count": 63,
   "id": "85c9b7b9-7d73-4cb2-aac9-9c0edf22283e",
   "metadata": {},
   "outputs": [],
   "source": [
    "import tensorflow.compat.v1 as tf\n",
    "tf.disable_v2_behavior()"
   ]
  },
  {
   "cell_type": "markdown",
   "id": "ed4f0471-cd32-4c86-9045-fd77482495ef",
   "metadata": {},
   "source": [
    "**해결 : tensorflow version1 사용**"
   ]
  },
  {
   "cell_type": "code",
   "execution_count": 77,
   "id": "2461a7f6-9f34-4784-a6ea-c2bae73ead15",
   "metadata": {},
   "outputs": [],
   "source": [
    "X = tf.placeholder(shape =[None, 3], dtype = tf.float32)\n",
    "y = tf.placeholder(shape = [None, 1], dtype = tf.float32) #shape 변경"
   ]
  },
  {
   "cell_type": "markdown",
   "id": "b1ccb2c5-0069-4c04-a462-2e54b63b8fd9",
   "metadata": {},
   "source": [
    "**X와 y의 타입을 맞춰줌으로써 타입 오류 방지**"
   ]
  },
  {
   "cell_type": "code",
   "execution_count": 78,
   "id": "50db462a-d777-4368-a8e9-ffd3f2a9a031",
   "metadata": {},
   "outputs": [],
   "source": [
    "W1 = tf.Variable(initial_value= tf.random_normal([3, 1]), dtype = tf.float32)\n",
    "b1 = tf.Variable(initial_value= tf.random_normal([1]), dtype = tf.float32)\n",
    "L1 = tf.nn.relu(tf.add(tf.matmul(X, W1), b1))"
   ]
  },
  {
   "cell_type": "code",
   "execution_count": 80,
   "id": "97c58211-6155-4b5a-beb1-f5a188c079d4",
   "metadata": {},
   "outputs": [],
   "source": [
    "W2 = tf.Variable(initial_value= tf.random_normal([1, 1]), dtype = tf.float32)\n",
    "b2 = tf.Variable(initial_value= tf.random_normal([1]), dtype = tf.float32)"
   ]
  },
  {
   "cell_type": "markdown",
   "id": "fda99ebc-9b7c-4c22-b859-cc011e5538ba",
   "metadata": {},
   "source": [
    "**이진분류이므로 다중클래스로 분류하는데 사용되는 소프트맥스함수가 아닌 시그모이드함수로 활성함수 변경**"
   ]
  },
  {
   "cell_type": "code",
   "execution_count": 81,
   "id": "7ac50df5-dd96-48bb-9703-c93e29b251fc",
   "metadata": {},
   "outputs": [],
   "source": [
    "logits = tf.matmul(L1, W2) + b2  # 활성화 함수 적용 전의 값을 logits으로 사용\n",
    "hypothesis = tf.sigmoid(logits)  # 시그모이드 활성화 함수 적용"
   ]
  },
  {
   "cell_type": "code",
   "execution_count": 82,
   "id": "f3bc64cb-dba8-447c-97d6-efb7a08dfad7",
   "metadata": {},
   "outputs": [],
   "source": [
    "cost = tf.reduce_mean(tf.nn.sigmoid_cross_entropy_with_logits(labels=y, logits=logits))\n",
    "optimizer = tf.train.GradientDescentOptimizer(learning_rate= 0.0001)\n",
    "train = optimizer.minimize(cost)\n",
    "sess = tf.Session()\n",
    "sess.run(tf.global_variables_initializer())"
   ]
  },
  {
   "cell_type": "code",
   "execution_count": 86,
   "id": "48c553b3-c20e-4938-8fd6-14e56f4f9984",
   "metadata": {},
   "outputs": [
    {
     "name": "stdout",
     "output_type": "stream",
     "text": [
      "step:  0 \t cost:  0.92838633\n",
      "step:  20 \t cost:  0.9266009\n",
      "step:  40 \t cost:  0.9248271\n",
      "step:  60 \t cost:  0.923065\n",
      "step:  80 \t cost:  0.92131394\n",
      "train finished!!\n"
     ]
    }
   ],
   "source": [
    "for i in range(100):   \t\t\t# 신경망 훈련\n",
    "  _, cost_val = sess.run([train, cost], feed_dict = {X: train_X, y: train_y.values.reshape(-1, 1)}) # 마찬가지로 y를 2D 배열로 전달\n",
    "  if i % 20 ==0:\n",
    "    print(\"step: \", i, \"\\t\", \"cost: \", cost_val)\n",
    "print(\"train finished!!\")"
   ]
  },
  {
   "cell_type": "code",
   "execution_count": 87,
   "id": "0d52f748-251b-4e45-bb46-7618aeda5830",
   "metadata": {},
   "outputs": [
    {
     "name": "stdout",
     "output_type": "stream",
     "text": [
      "accuracy:  0.6533333\n"
     ]
    }
   ],
   "source": [
    "predict = tf.cast(hypo > 0.5, dtype = tf.float32)   \t# 예측\n",
    "accuracy = tf.reduce_mean(tf.cast(tf.equal(predict, y), dtype = tf.float32 ))\n",
    "print(\"accuracy: \", sess.run(accuracy, feed_dict={X: test_X, y: test_y.values.reshape(-1, 1)}))"
   ]
  }
 ],
 "metadata": {
  "kernelspec": {
   "display_name": "Python 3 (ipykernel)",
   "language": "python",
   "name": "python3"
  },
  "language_info": {
   "codemirror_mode": {
    "name": "ipython",
    "version": 3
   },
   "file_extension": ".py",
   "mimetype": "text/x-python",
   "name": "python",
   "nbconvert_exporter": "python",
   "pygments_lexer": "ipython3",
   "version": "3.11.5"
  }
 },
 "nbformat": 4,
 "nbformat_minor": 5
}
